{
 "cells": [
  {
   "cell_type": "markdown",
   "source": [
    "##Präsentation Taxis\n"
   ],
   "metadata": {
    "collapsed": false
   }
  },
  {
   "cell_type": "code",
   "execution_count": null,
   "outputs": [],
   "source": [],
   "metadata": {
    "collapsed": false
   }
  },
  {
   "cell_type": "code",
   "execution_count": 18,
   "metadata": {
    "collapsed": true
   },
   "outputs": [],
   "source": [
    "import numpy as np\n",
    "import pandas as pd\n",
    "import seaborn as sb"
   ]
  },
  {
   "cell_type": "code",
   "execution_count": 19,
   "outputs": [
    {
     "data": {
      "text/plain": "                   pickup              dropoff  passengers  distance  fare  \\\n0     2019-03-23 20:21:09  2019-03-23 20:27:24           1      1.60   7.0   \n1     2019-03-04 16:11:55  2019-03-04 16:19:00           1      0.79   5.0   \n2     2019-03-27 17:53:01  2019-03-27 18:00:25           1      1.37   7.5   \n3     2019-03-10 01:23:59  2019-03-10 01:49:51           1      7.70  27.0   \n4     2019-03-30 13:27:42  2019-03-30 13:37:14           3      2.16   9.0   \n...                   ...                  ...         ...       ...   ...   \n6428  2019-03-31 09:51:53  2019-03-31 09:55:27           1      0.75   4.5   \n6429  2019-03-31 17:38:00  2019-03-31 18:34:23           1     18.74  58.0   \n6430  2019-03-23 22:55:18  2019-03-23 23:14:25           1      4.14  16.0   \n6431  2019-03-04 10:09:25  2019-03-04 10:14:29           1      1.12   6.0   \n6432  2019-03-13 19:31:22  2019-03-13 19:48:02           1      3.85  15.0   \n\n       tip  tolls  total   color      payment            pickup_zone  \\\n0     2.15    0.0  12.95  yellow  credit card        Lenox Hill West   \n1     0.00    0.0   9.30  yellow         cash  Upper West Side South   \n2     2.36    0.0  14.16  yellow  credit card          Alphabet City   \n3     6.15    0.0  36.95  yellow  credit card              Hudson Sq   \n4     1.10    0.0  13.40  yellow  credit card           Midtown East   \n...    ...    ...    ...     ...          ...                    ...   \n6428  1.06    0.0   6.36   green  credit card      East Harlem North   \n6429  0.00    0.0  58.80   green  credit card                Jamaica   \n6430  0.00    0.0  17.30   green         cash    Crown Heights North   \n6431  0.00    0.0   6.80   green  credit card          East New York   \n6432  3.36    0.0  20.16   green  credit card            Boerum Hill   \n\n                          dropoff_zone pickup_borough dropoff_borough  \n0                  UN/Turtle Bay South      Manhattan       Manhattan  \n1                Upper West Side South      Manhattan       Manhattan  \n2                         West Village      Manhattan       Manhattan  \n3                       Yorkville West      Manhattan       Manhattan  \n4                       Yorkville West      Manhattan       Manhattan  \n...                                ...            ...             ...  \n6428              Central Harlem North      Manhattan       Manhattan  \n6429  East Concourse/Concourse Village         Queens           Bronx  \n6430                    Bushwick North       Brooklyn        Brooklyn  \n6431      East Flatbush/Remsen Village       Brooklyn        Brooklyn  \n6432                   Windsor Terrace       Brooklyn        Brooklyn  \n\n[6433 rows x 14 columns]",
      "text/html": "<div>\n<style scoped>\n    .dataframe tbody tr th:only-of-type {\n        vertical-align: middle;\n    }\n\n    .dataframe tbody tr th {\n        vertical-align: top;\n    }\n\n    .dataframe thead th {\n        text-align: right;\n    }\n</style>\n<table border=\"1\" class=\"dataframe\">\n  <thead>\n    <tr style=\"text-align: right;\">\n      <th></th>\n      <th>pickup</th>\n      <th>dropoff</th>\n      <th>passengers</th>\n      <th>distance</th>\n      <th>fare</th>\n      <th>tip</th>\n      <th>tolls</th>\n      <th>total</th>\n      <th>color</th>\n      <th>payment</th>\n      <th>pickup_zone</th>\n      <th>dropoff_zone</th>\n      <th>pickup_borough</th>\n      <th>dropoff_borough</th>\n    </tr>\n  </thead>\n  <tbody>\n    <tr>\n      <th>0</th>\n      <td>2019-03-23 20:21:09</td>\n      <td>2019-03-23 20:27:24</td>\n      <td>1</td>\n      <td>1.60</td>\n      <td>7.0</td>\n      <td>2.15</td>\n      <td>0.0</td>\n      <td>12.95</td>\n      <td>yellow</td>\n      <td>credit card</td>\n      <td>Lenox Hill West</td>\n      <td>UN/Turtle Bay South</td>\n      <td>Manhattan</td>\n      <td>Manhattan</td>\n    </tr>\n    <tr>\n      <th>1</th>\n      <td>2019-03-04 16:11:55</td>\n      <td>2019-03-04 16:19:00</td>\n      <td>1</td>\n      <td>0.79</td>\n      <td>5.0</td>\n      <td>0.00</td>\n      <td>0.0</td>\n      <td>9.30</td>\n      <td>yellow</td>\n      <td>cash</td>\n      <td>Upper West Side South</td>\n      <td>Upper West Side South</td>\n      <td>Manhattan</td>\n      <td>Manhattan</td>\n    </tr>\n    <tr>\n      <th>2</th>\n      <td>2019-03-27 17:53:01</td>\n      <td>2019-03-27 18:00:25</td>\n      <td>1</td>\n      <td>1.37</td>\n      <td>7.5</td>\n      <td>2.36</td>\n      <td>0.0</td>\n      <td>14.16</td>\n      <td>yellow</td>\n      <td>credit card</td>\n      <td>Alphabet City</td>\n      <td>West Village</td>\n      <td>Manhattan</td>\n      <td>Manhattan</td>\n    </tr>\n    <tr>\n      <th>3</th>\n      <td>2019-03-10 01:23:59</td>\n      <td>2019-03-10 01:49:51</td>\n      <td>1</td>\n      <td>7.70</td>\n      <td>27.0</td>\n      <td>6.15</td>\n      <td>0.0</td>\n      <td>36.95</td>\n      <td>yellow</td>\n      <td>credit card</td>\n      <td>Hudson Sq</td>\n      <td>Yorkville West</td>\n      <td>Manhattan</td>\n      <td>Manhattan</td>\n    </tr>\n    <tr>\n      <th>4</th>\n      <td>2019-03-30 13:27:42</td>\n      <td>2019-03-30 13:37:14</td>\n      <td>3</td>\n      <td>2.16</td>\n      <td>9.0</td>\n      <td>1.10</td>\n      <td>0.0</td>\n      <td>13.40</td>\n      <td>yellow</td>\n      <td>credit card</td>\n      <td>Midtown East</td>\n      <td>Yorkville West</td>\n      <td>Manhattan</td>\n      <td>Manhattan</td>\n    </tr>\n    <tr>\n      <th>...</th>\n      <td>...</td>\n      <td>...</td>\n      <td>...</td>\n      <td>...</td>\n      <td>...</td>\n      <td>...</td>\n      <td>...</td>\n      <td>...</td>\n      <td>...</td>\n      <td>...</td>\n      <td>...</td>\n      <td>...</td>\n      <td>...</td>\n      <td>...</td>\n    </tr>\n    <tr>\n      <th>6428</th>\n      <td>2019-03-31 09:51:53</td>\n      <td>2019-03-31 09:55:27</td>\n      <td>1</td>\n      <td>0.75</td>\n      <td>4.5</td>\n      <td>1.06</td>\n      <td>0.0</td>\n      <td>6.36</td>\n      <td>green</td>\n      <td>credit card</td>\n      <td>East Harlem North</td>\n      <td>Central Harlem North</td>\n      <td>Manhattan</td>\n      <td>Manhattan</td>\n    </tr>\n    <tr>\n      <th>6429</th>\n      <td>2019-03-31 17:38:00</td>\n      <td>2019-03-31 18:34:23</td>\n      <td>1</td>\n      <td>18.74</td>\n      <td>58.0</td>\n      <td>0.00</td>\n      <td>0.0</td>\n      <td>58.80</td>\n      <td>green</td>\n      <td>credit card</td>\n      <td>Jamaica</td>\n      <td>East Concourse/Concourse Village</td>\n      <td>Queens</td>\n      <td>Bronx</td>\n    </tr>\n    <tr>\n      <th>6430</th>\n      <td>2019-03-23 22:55:18</td>\n      <td>2019-03-23 23:14:25</td>\n      <td>1</td>\n      <td>4.14</td>\n      <td>16.0</td>\n      <td>0.00</td>\n      <td>0.0</td>\n      <td>17.30</td>\n      <td>green</td>\n      <td>cash</td>\n      <td>Crown Heights North</td>\n      <td>Bushwick North</td>\n      <td>Brooklyn</td>\n      <td>Brooklyn</td>\n    </tr>\n    <tr>\n      <th>6431</th>\n      <td>2019-03-04 10:09:25</td>\n      <td>2019-03-04 10:14:29</td>\n      <td>1</td>\n      <td>1.12</td>\n      <td>6.0</td>\n      <td>0.00</td>\n      <td>0.0</td>\n      <td>6.80</td>\n      <td>green</td>\n      <td>credit card</td>\n      <td>East New York</td>\n      <td>East Flatbush/Remsen Village</td>\n      <td>Brooklyn</td>\n      <td>Brooklyn</td>\n    </tr>\n    <tr>\n      <th>6432</th>\n      <td>2019-03-13 19:31:22</td>\n      <td>2019-03-13 19:48:02</td>\n      <td>1</td>\n      <td>3.85</td>\n      <td>15.0</td>\n      <td>3.36</td>\n      <td>0.0</td>\n      <td>20.16</td>\n      <td>green</td>\n      <td>credit card</td>\n      <td>Boerum Hill</td>\n      <td>Windsor Terrace</td>\n      <td>Brooklyn</td>\n      <td>Brooklyn</td>\n    </tr>\n  </tbody>\n</table>\n<p>6433 rows × 14 columns</p>\n</div>"
     },
     "execution_count": 19,
     "metadata": {},
     "output_type": "execute_result"
    }
   ],
   "source": [
    "pd.read_csv(r\"C:\\Users\\Admin\\Desktop\\Projektwoche\\taxis.csv\")\n"
   ],
   "metadata": {
    "collapsed": false
   }
  },
  {
   "cell_type": "code",
   "execution_count": 14,
   "outputs": [],
   "source": [],
   "metadata": {
    "collapsed": false
   }
  },
  {
   "cell_type": "code",
   "execution_count": 8,
   "outputs": [
    {
     "data": {
      "text/plain": "                  pickup             dropoff  passengers  distance  fare  \\\n0    2019-03-23 20:21:09 2019-03-23 20:27:24           1      1.60   7.0   \n1    2019-03-04 16:11:55 2019-03-04 16:19:00           1      0.79   5.0   \n2    2019-03-27 17:53:01 2019-03-27 18:00:25           1      1.37   7.5   \n3    2019-03-10 01:23:59 2019-03-10 01:49:51           1      7.70  27.0   \n4    2019-03-30 13:27:42 2019-03-30 13:37:14           3      2.16   9.0   \n...                  ...                 ...         ...       ...   ...   \n6428 2019-03-31 09:51:53 2019-03-31 09:55:27           1      0.75   4.5   \n6429 2019-03-31 17:38:00 2019-03-31 18:34:23           1     18.74  58.0   \n6430 2019-03-23 22:55:18 2019-03-23 23:14:25           1      4.14  16.0   \n6431 2019-03-04 10:09:25 2019-03-04 10:14:29           1      1.12   6.0   \n6432 2019-03-13 19:31:22 2019-03-13 19:48:02           1      3.85  15.0   \n\n       tip  tolls  total   color      payment            pickup_zone  \\\n0     2.15    0.0  12.95  yellow  credit card        Lenox Hill West   \n1     0.00    0.0   9.30  yellow         cash  Upper West Side South   \n2     2.36    0.0  14.16  yellow  credit card          Alphabet City   \n3     6.15    0.0  36.95  yellow  credit card              Hudson Sq   \n4     1.10    0.0  13.40  yellow  credit card           Midtown East   \n...    ...    ...    ...     ...          ...                    ...   \n6428  1.06    0.0   6.36   green  credit card      East Harlem North   \n6429  0.00    0.0  58.80   green  credit card                Jamaica   \n6430  0.00    0.0  17.30   green         cash    Crown Heights North   \n6431  0.00    0.0   6.80   green  credit card          East New York   \n6432  3.36    0.0  20.16   green  credit card            Boerum Hill   \n\n                          dropoff_zone pickup_borough dropoff_borough  \n0                  UN/Turtle Bay South      Manhattan       Manhattan  \n1                Upper West Side South      Manhattan       Manhattan  \n2                         West Village      Manhattan       Manhattan  \n3                       Yorkville West      Manhattan       Manhattan  \n4                       Yorkville West      Manhattan       Manhattan  \n...                                ...            ...             ...  \n6428              Central Harlem North      Manhattan       Manhattan  \n6429  East Concourse/Concourse Village         Queens           Bronx  \n6430                    Bushwick North       Brooklyn        Brooklyn  \n6431      East Flatbush/Remsen Village       Brooklyn        Brooklyn  \n6432                   Windsor Terrace       Brooklyn        Brooklyn  \n\n[6433 rows x 14 columns]",
      "text/html": "<div>\n<style scoped>\n    .dataframe tbody tr th:only-of-type {\n        vertical-align: middle;\n    }\n\n    .dataframe tbody tr th {\n        vertical-align: top;\n    }\n\n    .dataframe thead th {\n        text-align: right;\n    }\n</style>\n<table border=\"1\" class=\"dataframe\">\n  <thead>\n    <tr style=\"text-align: right;\">\n      <th></th>\n      <th>pickup</th>\n      <th>dropoff</th>\n      <th>passengers</th>\n      <th>distance</th>\n      <th>fare</th>\n      <th>tip</th>\n      <th>tolls</th>\n      <th>total</th>\n      <th>color</th>\n      <th>payment</th>\n      <th>pickup_zone</th>\n      <th>dropoff_zone</th>\n      <th>pickup_borough</th>\n      <th>dropoff_borough</th>\n    </tr>\n  </thead>\n  <tbody>\n    <tr>\n      <th>0</th>\n      <td>2019-03-23 20:21:09</td>\n      <td>2019-03-23 20:27:24</td>\n      <td>1</td>\n      <td>1.60</td>\n      <td>7.0</td>\n      <td>2.15</td>\n      <td>0.0</td>\n      <td>12.95</td>\n      <td>yellow</td>\n      <td>credit card</td>\n      <td>Lenox Hill West</td>\n      <td>UN/Turtle Bay South</td>\n      <td>Manhattan</td>\n      <td>Manhattan</td>\n    </tr>\n    <tr>\n      <th>1</th>\n      <td>2019-03-04 16:11:55</td>\n      <td>2019-03-04 16:19:00</td>\n      <td>1</td>\n      <td>0.79</td>\n      <td>5.0</td>\n      <td>0.00</td>\n      <td>0.0</td>\n      <td>9.30</td>\n      <td>yellow</td>\n      <td>cash</td>\n      <td>Upper West Side South</td>\n      <td>Upper West Side South</td>\n      <td>Manhattan</td>\n      <td>Manhattan</td>\n    </tr>\n    <tr>\n      <th>2</th>\n      <td>2019-03-27 17:53:01</td>\n      <td>2019-03-27 18:00:25</td>\n      <td>1</td>\n      <td>1.37</td>\n      <td>7.5</td>\n      <td>2.36</td>\n      <td>0.0</td>\n      <td>14.16</td>\n      <td>yellow</td>\n      <td>credit card</td>\n      <td>Alphabet City</td>\n      <td>West Village</td>\n      <td>Manhattan</td>\n      <td>Manhattan</td>\n    </tr>\n    <tr>\n      <th>3</th>\n      <td>2019-03-10 01:23:59</td>\n      <td>2019-03-10 01:49:51</td>\n      <td>1</td>\n      <td>7.70</td>\n      <td>27.0</td>\n      <td>6.15</td>\n      <td>0.0</td>\n      <td>36.95</td>\n      <td>yellow</td>\n      <td>credit card</td>\n      <td>Hudson Sq</td>\n      <td>Yorkville West</td>\n      <td>Manhattan</td>\n      <td>Manhattan</td>\n    </tr>\n    <tr>\n      <th>4</th>\n      <td>2019-03-30 13:27:42</td>\n      <td>2019-03-30 13:37:14</td>\n      <td>3</td>\n      <td>2.16</td>\n      <td>9.0</td>\n      <td>1.10</td>\n      <td>0.0</td>\n      <td>13.40</td>\n      <td>yellow</td>\n      <td>credit card</td>\n      <td>Midtown East</td>\n      <td>Yorkville West</td>\n      <td>Manhattan</td>\n      <td>Manhattan</td>\n    </tr>\n    <tr>\n      <th>...</th>\n      <td>...</td>\n      <td>...</td>\n      <td>...</td>\n      <td>...</td>\n      <td>...</td>\n      <td>...</td>\n      <td>...</td>\n      <td>...</td>\n      <td>...</td>\n      <td>...</td>\n      <td>...</td>\n      <td>...</td>\n      <td>...</td>\n      <td>...</td>\n    </tr>\n    <tr>\n      <th>6428</th>\n      <td>2019-03-31 09:51:53</td>\n      <td>2019-03-31 09:55:27</td>\n      <td>1</td>\n      <td>0.75</td>\n      <td>4.5</td>\n      <td>1.06</td>\n      <td>0.0</td>\n      <td>6.36</td>\n      <td>green</td>\n      <td>credit card</td>\n      <td>East Harlem North</td>\n      <td>Central Harlem North</td>\n      <td>Manhattan</td>\n      <td>Manhattan</td>\n    </tr>\n    <tr>\n      <th>6429</th>\n      <td>2019-03-31 17:38:00</td>\n      <td>2019-03-31 18:34:23</td>\n      <td>1</td>\n      <td>18.74</td>\n      <td>58.0</td>\n      <td>0.00</td>\n      <td>0.0</td>\n      <td>58.80</td>\n      <td>green</td>\n      <td>credit card</td>\n      <td>Jamaica</td>\n      <td>East Concourse/Concourse Village</td>\n      <td>Queens</td>\n      <td>Bronx</td>\n    </tr>\n    <tr>\n      <th>6430</th>\n      <td>2019-03-23 22:55:18</td>\n      <td>2019-03-23 23:14:25</td>\n      <td>1</td>\n      <td>4.14</td>\n      <td>16.0</td>\n      <td>0.00</td>\n      <td>0.0</td>\n      <td>17.30</td>\n      <td>green</td>\n      <td>cash</td>\n      <td>Crown Heights North</td>\n      <td>Bushwick North</td>\n      <td>Brooklyn</td>\n      <td>Brooklyn</td>\n    </tr>\n    <tr>\n      <th>6431</th>\n      <td>2019-03-04 10:09:25</td>\n      <td>2019-03-04 10:14:29</td>\n      <td>1</td>\n      <td>1.12</td>\n      <td>6.0</td>\n      <td>0.00</td>\n      <td>0.0</td>\n      <td>6.80</td>\n      <td>green</td>\n      <td>credit card</td>\n      <td>East New York</td>\n      <td>East Flatbush/Remsen Village</td>\n      <td>Brooklyn</td>\n      <td>Brooklyn</td>\n    </tr>\n    <tr>\n      <th>6432</th>\n      <td>2019-03-13 19:31:22</td>\n      <td>2019-03-13 19:48:02</td>\n      <td>1</td>\n      <td>3.85</td>\n      <td>15.0</td>\n      <td>3.36</td>\n      <td>0.0</td>\n      <td>20.16</td>\n      <td>green</td>\n      <td>credit card</td>\n      <td>Boerum Hill</td>\n      <td>Windsor Terrace</td>\n      <td>Brooklyn</td>\n      <td>Brooklyn</td>\n    </tr>\n  </tbody>\n</table>\n<p>6433 rows × 14 columns</p>\n</div>"
     },
     "execution_count": 8,
     "metadata": {},
     "output_type": "execute_result"
    }
   ],
   "source": [
    "import seaborn as sb\n",
    "taxis = sb.load_dataset(\"taxis\")\n",
    "taxis"
   ],
   "metadata": {
    "collapsed": false
   }
  },
  {
   "cell_type": "code",
   "execution_count": 3,
   "outputs": [
    {
     "data": {
      "text/plain": "6"
     },
     "execution_count": 3,
     "metadata": {},
     "output_type": "execute_result"
    }
   ],
   "source": [
    "taxis.passengers.max()"
   ],
   "metadata": {
    "collapsed": false
   }
  },
  {
   "cell_type": "code",
   "execution_count": 9,
   "outputs": [
    {
     "data": {
      "text/plain": "<bound method Series.groupby of 0       1\n1       1\n2       1\n3       1\n4       3\n       ..\n6428    1\n6429    1\n6430    1\n6431    1\n6432    1\nName: passengers, Length: 6433, dtype: int64>"
     },
     "execution_count": 9,
     "metadata": {},
     "output_type": "execute_result"
    }
   ],
   "source": [
    "taxis.passengers.groupby"
   ],
   "metadata": {
    "collapsed": false
   }
  },
  {
   "cell_type": "code",
   "execution_count": 11,
   "outputs": [],
   "source": [
    "import matplotlib as mpl\n",
    "import matplotlib.pyplot as plt\n",
    "\n",
    "import numpy as np\n",
    "import pandas as pd\n",
    "import seaborn as sb\n",
    "\n",
    "from IPython.display import display, HTML\n",
    "from matplotlib.colors import LinearSegmentedColormap\n",
    "\n",
    "# Datashader helper function:\n",
    "def bg(img): return dtf.set_background(img, \"black\")\n",
    "\n",
    "%matplotlib inline\n",
    "mpl.rcParams['figure.dpi'] = 130"
   ],
   "metadata": {
    "collapsed": false
   }
  },
  {
   "cell_type": "code",
   "execution_count": 5,
   "outputs": [
    {
     "data": {
      "text/plain": "1.539250738380227"
     },
     "execution_count": 5,
     "metadata": {},
     "output_type": "execute_result"
    }
   ],
   "source": [
    "taxis.passengers.mean()"
   ],
   "metadata": {
    "collapsed": false
   }
  },
  {
   "cell_type": "code",
   "execution_count": 8,
   "outputs": [
    {
     "data": {
      "text/plain": "<bound method Series.groupby of 0       Manhattan\n1       Manhattan\n2       Manhattan\n3       Manhattan\n4       Manhattan\n          ...    \n6428    Manhattan\n6429       Queens\n6430     Brooklyn\n6431     Brooklyn\n6432     Brooklyn\nName: pickup_borough, Length: 6433, dtype: object>"
     },
     "execution_count": 8,
     "metadata": {},
     "output_type": "execute_result"
    }
   ],
   "source": [
    "taxis.pickup_borough.groupby"
   ],
   "metadata": {
    "collapsed": false
   }
  },
  {
   "cell_type": "code",
   "execution_count": 21,
   "outputs": [
    {
     "data": {
      "text/plain": "payment                                  cash  credit card\npickup              dropoff                               \n2019-02-28 23:29:03 2019-02-28 23:32:35   1.0          NaN\n2019-03-01 00:03:29 2019-03-01 00:13:32   NaN          3.0\n2019-03-01 00:08:32 2019-03-01 00:29:47   NaN          3.0\n2019-03-01 00:15:53 2019-03-01 00:47:58   NaN          1.0\n2019-03-01 00:29:22 2019-03-01 00:32:48   NaN          4.0\n...                                       ...          ...\n2019-03-31 22:13:37 2019-03-31 22:22:50   NaN          1.0\n2019-03-31 22:32:27 2019-03-31 22:34:45   NaN          1.0\n2019-03-31 22:51:53 2019-03-31 22:55:10   NaN          1.0\n2019-03-31 23:15:03 2019-03-31 23:27:12   NaN          1.0\n2019-03-31 23:43:45 2019-04-01 00:13:58   5.0          NaN\n\n[6389 rows x 2 columns]",
      "text/html": "<div>\n<style scoped>\n    .dataframe tbody tr th:only-of-type {\n        vertical-align: middle;\n    }\n\n    .dataframe tbody tr th {\n        vertical-align: top;\n    }\n\n    .dataframe thead th {\n        text-align: right;\n    }\n</style>\n<table border=\"1\" class=\"dataframe\">\n  <thead>\n    <tr style=\"text-align: right;\">\n      <th></th>\n      <th>payment</th>\n      <th>cash</th>\n      <th>credit card</th>\n    </tr>\n    <tr>\n      <th>pickup</th>\n      <th>dropoff</th>\n      <th></th>\n      <th></th>\n    </tr>\n  </thead>\n  <tbody>\n    <tr>\n      <th>2019-02-28 23:29:03</th>\n      <th>2019-02-28 23:32:35</th>\n      <td>1.0</td>\n      <td>NaN</td>\n    </tr>\n    <tr>\n      <th>2019-03-01 00:03:29</th>\n      <th>2019-03-01 00:13:32</th>\n      <td>NaN</td>\n      <td>3.0</td>\n    </tr>\n    <tr>\n      <th>2019-03-01 00:08:32</th>\n      <th>2019-03-01 00:29:47</th>\n      <td>NaN</td>\n      <td>3.0</td>\n    </tr>\n    <tr>\n      <th>2019-03-01 00:15:53</th>\n      <th>2019-03-01 00:47:58</th>\n      <td>NaN</td>\n      <td>1.0</td>\n    </tr>\n    <tr>\n      <th>2019-03-01 00:29:22</th>\n      <th>2019-03-01 00:32:48</th>\n      <td>NaN</td>\n      <td>4.0</td>\n    </tr>\n    <tr>\n      <th>...</th>\n      <th>...</th>\n      <td>...</td>\n      <td>...</td>\n    </tr>\n    <tr>\n      <th>2019-03-31 22:13:37</th>\n      <th>2019-03-31 22:22:50</th>\n      <td>NaN</td>\n      <td>1.0</td>\n    </tr>\n    <tr>\n      <th>2019-03-31 22:32:27</th>\n      <th>2019-03-31 22:34:45</th>\n      <td>NaN</td>\n      <td>1.0</td>\n    </tr>\n    <tr>\n      <th>2019-03-31 22:51:53</th>\n      <th>2019-03-31 22:55:10</th>\n      <td>NaN</td>\n      <td>1.0</td>\n    </tr>\n    <tr>\n      <th>2019-03-31 23:15:03</th>\n      <th>2019-03-31 23:27:12</th>\n      <td>NaN</td>\n      <td>1.0</td>\n    </tr>\n    <tr>\n      <th>2019-03-31 23:43:45</th>\n      <th>2019-04-01 00:13:58</th>\n      <td>5.0</td>\n      <td>NaN</td>\n    </tr>\n  </tbody>\n</table>\n<p>6389 rows × 2 columns</p>\n</div>"
     },
     "execution_count": 21,
     "metadata": {},
     "output_type": "execute_result"
    }
   ],
   "source": [
    "table = pd.pivot_table(taxis, values='passengers', index=['pickup', 'dropoff'],\n",
    "                    columns=['payment'], aggfunc=sum)\n",
    "table\n"
   ],
   "metadata": {
    "collapsed": false
   }
  },
  {
   "cell_type": "code",
   "execution_count": 22,
   "outputs": [
    {
     "data": {
      "text/plain": "1812"
     },
     "execution_count": 22,
     "metadata": {},
     "output_type": "execute_result"
    }
   ],
   "source": [
    "pay_cash=taxis.loc[taxis[\"payment\"]==\"cash\"]\n",
    "pay_cash_num=len(pay_cash)\n",
    "pay_cash_num"
   ],
   "metadata": {
    "collapsed": false
   }
  },
  {
   "cell_type": "code",
   "execution_count": 23,
   "outputs": [
    {
     "data": {
      "text/plain": "4577"
     },
     "execution_count": 23,
     "metadata": {},
     "output_type": "execute_result"
    }
   ],
   "source": [
    "pay_credit=taxis.loc[taxis[\"payment\"]==\"credit card\"]\n",
    "pay_credit_num=len(pay_credit)\n",
    "pay_credit_num"
   ],
   "metadata": {
    "collapsed": false
   }
  },
  {
   "cell_type": "code",
   "execution_count": 5,
   "outputs": [
    {
     "data": {
      "text/plain": "<Figure size 640x480 with 1 Axes>",
      "image/png": "[encoded data removed]"
     },
     "metadata": {},
     "output_type": "display_data"
    }
   ],
   "source": [
    "\n",
    "\n",
    "import seaborn as sb\n",
    "import matplotlib.pyplot as plt\n",
    "daten=[\"passengers\",\"weekday\"]\n",
    "plt.plot(daten)\n",
    "plt.show()"
   ],
   "metadata": {
    "collapsed": false
   }
  },
  {
   "cell_type": "code",
   "execution_count": 2,
   "outputs": [
    {
     "data": {
      "text/plain": "<Figure size 640x480 with 1 Axes>",
      "image/png": "[encoded data removed]"
     },
     "metadata": {},
     "output_type": "display_data"
    }
   ],
   "source": [
    "import matplotlib.pyplot as plt\n",
    "\n",
    "daten = [\"taxis\"]\n",
    "plt.plot(daten)\n",
    "plt.xlabel(\"payment\")\n",
    "plt.ylabel(\"passengers\")\n",
    "plt.show()"
   ],
   "metadata": {
    "collapsed": false
   }
  },
  {
   "cell_type": "code",
   "execution_count": 3,
   "outputs": [
    {
     "data": {
      "text/plain": "<Figure size 640x480 with 1 Axes>",
      "image/png": "[encoded data removed]"
     },
     "metadata": {},
     "output_type": "display_data"
    }
   ],
   "source": [
    "ywerte = [4, 7, 1, 9, 5, 2, 8]\n",
    "xwerte = [1, 2, 3, 4, 5, 6, 7]\n",
    "plt.bar(xwerte, ywerte)\n",
    "plt.xlabel(\"payment\")\n",
    "plt.ylabel(\"passengers\")\n",
    "plt.show()"
   ],
   "metadata": {
    "collapsed": false
   }
  },
  {
   "cell_type": "code",
   "execution_count": 27,
   "outputs": [
    {
     "data": {
      "text/plain": "0       1\n1       1\n2       1\n3       1\n4       3\n       ..\n6428    1\n6429    1\n6430    1\n6431    1\n6432    1\nName: passengers, Length: 6433, dtype: int64"
     },
     "execution_count": 27,
     "metadata": {},
     "output_type": "execute_result"
    }
   ],
   "source": [
    "taxis.passengers\n"
   ],
   "metadata": {
    "collapsed": false
   }
  },
  {
   "cell_type": "code",
   "execution_count": 28,
   "outputs": [
    {
     "data": {
      "text/plain": "0      2019-03-23 20:21:09\n1      2019-03-04 16:11:55\n2      2019-03-27 17:53:01\n3      2019-03-10 01:23:59\n4      2019-03-30 13:27:42\n               ...        \n6428   2019-03-31 09:51:53\n6429   2019-03-31 17:38:00\n6430   2019-03-23 22:55:18\n6431   2019-03-04 10:09:25\n6432   2019-03-13 19:31:22\nName: pickup, Length: 6433, dtype: datetime64[ns]"
     },
     "execution_count": 28,
     "metadata": {},
     "output_type": "execute_result"
    }
   ],
   "source": [
    "taxis.pickup"
   ],
   "metadata": {
    "collapsed": false
   }
  },
  {
   "cell_type": "code",
   "execution_count": 22,
   "outputs": [
    {
     "data": {
      "text/plain": "0          Lenox Hill West\n1    Upper West Side South\n2            Alphabet City\n3                Hudson Sq\n4             Midtown East\nName: pickup_zone, dtype: object"
     },
     "execution_count": 22,
     "metadata": {},
     "output_type": "execute_result"
    }
   ],
   "source": [
    "taxis.pickup_zone.head()"
   ],
   "metadata": {
    "collapsed": false
   }
  },
  {
   "cell_type": "code",
   "execution_count": 29,
   "outputs": [
    {
     "data": {
      "text/plain": "0      2019-03-23 20:27:24\n1      2019-03-04 16:19:00\n2      2019-03-27 18:00:25\n3      2019-03-10 01:49:51\n4      2019-03-30 13:37:14\n               ...        \n6428   2019-03-31 09:55:27\n6429   2019-03-31 18:34:23\n6430   2019-03-23 23:14:25\n6431   2019-03-04 10:14:29\n6432   2019-03-13 19:48:02\nName: dropoff, Length: 6433, dtype: datetime64[ns]"
     },
     "execution_count": 29,
     "metadata": {},
     "output_type": "execute_result"
    }
   ],
   "source": [
    "taxis.dropoff"
   ],
   "metadata": {
    "collapsed": false
   }
  },
  {
   "cell_type": "code",
   "execution_count": 19,
   "outputs": [
    {
     "data": {
      "text/plain": "0      UN/Turtle Bay South\n1    Upper West Side South\n2             West Village\n3           Yorkville West\n4           Yorkville West\nName: dropoff_zone, dtype: object"
     },
     "execution_count": 19,
     "metadata": {},
     "output_type": "execute_result"
    }
   ],
   "source": [
    "taxis.dropoff_zone.head()"
   ],
   "metadata": {
    "collapsed": false
   }
  },
  {
   "cell_type": "code",
   "execution_count": 20,
   "outputs": [
    {
     "data": {
      "text/plain": "0    1.60\n1    0.79\n2    1.37\n3    7.70\n4    2.16\nName: distance, dtype: float64"
     },
     "execution_count": 20,
     "metadata": {},
     "output_type": "execute_result"
    }
   ],
   "source": [
    "taxis.distance.head()"
   ],
   "metadata": {
    "collapsed": false
   }
  },
  {
   "cell_type": "code",
   "execution_count": 24,
   "outputs": [
    {
     "data": {
      "text/plain": "0    credit card\n1           cash\n2    credit card\n3    credit card\n4    credit card\nName: payment, dtype: object"
     },
     "execution_count": 24,
     "metadata": {},
     "output_type": "execute_result"
    }
   ],
   "source": [
    "taxis.payment.head()"
   ],
   "metadata": {
    "collapsed": false
   }
  },
  {
   "cell_type": "code",
   "execution_count": 2,
   "outputs": [
    {
     "name": "stdout",
     "output_type": "stream",
     "text": [
      "pickup        2019-03-31 23:43:45\n",
      "dropoff       2019-04-01 00:13:58\n",
      "passengers                      6\n",
      "distance                     36.7\n",
      "fare                        150.0\n",
      "tip                          33.2\n",
      "tolls                       24.02\n",
      "total                      174.82\n",
      "color                      yellow\n",
      "dtype: object\n"
     ]
    },
    {
     "name": "stderr",
     "output_type": "stream",
     "text": [
      "C:\\Users\\Admin\\AppData\\Local\\Temp\\ipykernel_10204\\3854170645.py:1: FutureWarning: The default value of numeric_only in DataFrame.max is deprecated. In a future version, it will default to False. In addition, specifying 'numeric_only=None' is deprecated. Select only valid columns or specify the value of numeric_only to silence this warning.\n",
      "  print(taxis.agg(\"max\"))\n"
     ]
    }
   ],
   "source": [
    "print(taxis.agg(\"max\"))"
   ],
   "metadata": {
    "collapsed": false
   }
  },
  {
   "cell_type": "code",
   "execution_count": 9,
   "outputs": [
    {
     "name": "stdout",
     "output_type": "stream",
     "text": [
      "pickup        2019-02-28 23:29:03\n",
      "dropoff       2019-02-28 23:32:35\n",
      "passengers                      0\n",
      "distance                      0.0\n",
      "fare                          1.0\n",
      "tip                           0.0\n",
      "tolls                         0.0\n",
      "total                         1.3\n",
      "color                       green\n",
      "dtype: object\n"
     ]
    },
    {
     "name": "stderr",
     "output_type": "stream",
     "text": [
      "C:\\Users\\Admin\\AppData\\Local\\Temp\\ipykernel_17204\\2756789046.py:1: FutureWarning: The default value of numeric_only in DataFrame.min is deprecated. In a future version, it will default to False. In addition, specifying 'numeric_only=None' is deprecated. Select only valid columns or specify the value of numeric_only to silence this warning.\n",
      "  print(taxis.agg(\"min\"))\n"
     ]
    }
   ],
   "source": [
    "print(taxis.agg(\"min\"))"
   ],
   "metadata": {
    "collapsed": false
   }
  },
  {
   "cell_type": "code",
   "execution_count": 4,
   "outputs": [
    {
     "name": "stdout",
     "output_type": "stream",
     "text": [
      "passengers     1.539251\n",
      "distance       3.024617\n",
      "fare          13.091073\n",
      "tip            1.979220\n",
      "tolls          0.325273\n",
      "total         18.517794\n",
      "dtype: float64\n"
     ]
    },
    {
     "name": "stderr",
     "output_type": "stream",
     "text": [
      "C:\\Users\\Admin\\AppData\\Local\\Temp\\ipykernel_10204\\1996517949.py:1: FutureWarning: DataFrame.mean and DataFrame.median with numeric_only=None will include datetime64 and datetime64tz columns in a future version.\n",
      "  print(taxis.agg(\"mean\"))\n",
      "C:\\Users\\Admin\\AppData\\Local\\Temp\\ipykernel_10204\\1996517949.py:1: FutureWarning: The default value of numeric_only in DataFrame.mean is deprecated. In a future version, it will default to False. In addition, specifying 'numeric_only=None' is deprecated. Select only valid columns or specify the value of numeric_only to silence this warning.\n",
      "  print(taxis.agg(\"mean\"))\n"
     ]
    }
   ],
   "source": [
    "print(taxis.agg(\"mean\"))"
   ],
   "metadata": {
    "collapsed": false
   }
  },
  {
   "cell_type": "code",
   "execution_count": 16,
   "outputs": [
    {
     "name": "stdout",
     "output_type": "stream",
     "text": [
      "Tuesday\n"
     ]
    }
   ],
   "source": [
    "import pandas as pd\n",
    "from datetime import datetime\n",
    "date = datetime.strptime(\"2022-11-01\", \"%Y-%m-%d\")\n",
    "print(date.strftime(\"%A\"))\n"
   ],
   "metadata": {
    "collapsed": false
   }
  },
  {
   "cell_type": "code",
   "execution_count": 18,
   "outputs": [
    {
     "name": "stdout",
     "output_type": "stream",
     "text": [
      "Monday\n",
      "Tuesday\n",
      "Wednesday\n",
      "Thursday\n",
      "Friday\n",
      "Saturday\n",
      "Sunday\n",
      "Monday\n",
      "Tuesday\n",
      "Wednesday\n",
      "Thursday\n",
      "Friday\n",
      "Saturday\n",
      "Sunday\n",
      "Monday\n",
      "Tuesday\n",
      "Wednesday\n",
      "Thursday\n",
      "Friday\n",
      "Saturday\n",
      "Sunday\n",
      "Monday\n",
      "Tuesday\n",
      "Wednesday\n",
      "Thursday\n",
      "Friday\n",
      "Saturday\n",
      "Sunday\n",
      "Monday\n",
      "Tuesday\n"
     ]
    }
   ],
   "source": [
    "from datetime import datetime, timedelta\n",
    "date = datetime.strptime(\"2019-04-01\", \"%Y-%m-%d\")\n",
    "month_days = (datetime(date.year, date.month+1, 1) - timedelta(days=1)).day\n",
    "\n",
    "for i in range(1, month_days+1):\n",
    "    current_day = datetime.strptime(f\"{date.year}-{date.month}-{i}\", \"%Y-%m-%d\")\n",
    "    print(current_day.strftime(\"%A\"))\n"
   ],
   "metadata": {
    "collapsed": false
   }
  },
  {
   "cell_type": "code",
   "execution_count": 8,
   "outputs": [],
   "source": [
    "import pandas as pd\n",
    "import numpy as np"
   ],
   "metadata": {
    "collapsed": false
   }
  },
  {
   "cell_type": "code",
   "execution_count": 3,
   "outputs": [],
   "source": [
    "\n",
    "import seaborn as sb\n",
    "sb.set()\n",
    "import matplotlib.pyplot as plt\n",
    "%matplotlib inline"
   ],
   "metadata": {
    "collapsed": false
   }
  },
  {
   "cell_type": "code",
   "execution_count": 4,
   "outputs": [],
   "source": [
    "import datetime as dt\n"
   ],
   "metadata": {
    "collapsed": false
   }
  },
  {
   "cell_type": "code",
   "execution_count": 5,
   "outputs": [],
   "source": [
    "import warnings; warnings.simplefilter('ignore')"
   ],
   "metadata": {
    "collapsed": false
   }
  },
  {
   "cell_type": "code",
   "execution_count": 11,
   "outputs": [],
   "source": [
    "data=pd.read_csv(r\"C:\\Users\\Admin\\Desktop\\Projektwoche\\taxis.csv\")"
   ],
   "metadata": {
    "collapsed": false
   }
  },
  {
   "cell_type": "code",
   "execution_count": 12,
   "outputs": [
    {
     "data": {
      "text/plain": "(6433, 14)"
     },
     "execution_count": 12,
     "metadata": {},
     "output_type": "execute_result"
    }
   ],
   "source": [
    "data.shape"
   ],
   "metadata": {
    "collapsed": false
   }
  },
  {
   "cell_type": "code",
   "execution_count": 96,
   "outputs": [
    {
     "data": {
      "text/plain": "Index(['pickup', 'dropoff', 'passengers', 'distance', 'fare', 'tip', 'tolls',\n       'total', 'color', 'payment', 'pickup_zone', 'dropoff_zone',\n       'pickup_borough', 'dropoff_borough'],\n      dtype='object')"
     },
     "execution_count": 96,
     "metadata": {},
     "output_type": "execute_result"
    }
   ],
   "source": [
    "data.columns"
   ],
   "metadata": {
    "collapsed": false
   }
  },
  {
   "cell_type": "code",
   "execution_count": 14,
   "outputs": [
    {
     "data": {
      "text/plain": "pickup              object\ndropoff             object\npassengers           int64\ndistance           float64\nfare               float64\ntip                float64\ntolls              float64\ntotal              float64\ncolor               object\npayment             object\npickup_zone         object\ndropoff_zone        object\npickup_borough      object\ndropoff_borough     object\ndtype: object"
     },
     "execution_count": 14,
     "metadata": {},
     "output_type": "execute_result"
    }
   ],
   "source": [
    "data.dtypes"
   ],
   "metadata": {
    "collapsed": false
   }
  },
  {
   "cell_type": "code",
   "execution_count": 15,
   "outputs": [
    {
     "data": {
      "text/plain": "                pickup              dropoff  passengers  distance  fare   tip  \\\n0  2019-03-23 20:21:09  2019-03-23 20:27:24           1      1.60   7.0  2.15   \n1  2019-03-04 16:11:55  2019-03-04 16:19:00           1      0.79   5.0  0.00   \n2  2019-03-27 17:53:01  2019-03-27 18:00:25           1      1.37   7.5  2.36   \n3  2019-03-10 01:23:59  2019-03-10 01:49:51           1      7.70  27.0  6.15   \n4  2019-03-30 13:27:42  2019-03-30 13:37:14           3      2.16   9.0  1.10   \n\n   tolls  total   color      payment            pickup_zone  \\\n0    0.0  12.95  yellow  credit card        Lenox Hill West   \n1    0.0   9.30  yellow         cash  Upper West Side South   \n2    0.0  14.16  yellow  credit card          Alphabet City   \n3    0.0  36.95  yellow  credit card              Hudson Sq   \n4    0.0  13.40  yellow  credit card           Midtown East   \n\n            dropoff_zone pickup_borough dropoff_borough  \n0    UN/Turtle Bay South      Manhattan       Manhattan  \n1  Upper West Side South      Manhattan       Manhattan  \n2           West Village      Manhattan       Manhattan  \n3         Yorkville West      Manhattan       Manhattan  \n4         Yorkville West      Manhattan       Manhattan  ",
      "text/html": "<div>\n<style scoped>\n    .dataframe tbody tr th:only-of-type {\n        vertical-align: middle;\n    }\n\n    .dataframe tbody tr th {\n        vertical-align: top;\n    }\n\n    .dataframe thead th {\n        text-align: right;\n    }\n</style>\n<table border=\"1\" class=\"dataframe\">\n  <thead>\n    <tr style=\"text-align: right;\">\n      <th></th>\n      <th>pickup</th>\n      <th>dropoff</th>\n      <th>passengers</th>\n      <th>distance</th>\n      <th>fare</th>\n      <th>tip</th>\n      <th>tolls</th>\n      <th>total</th>\n      <th>color</th>\n      <th>payment</th>\n      <th>pickup_zone</th>\n      <th>dropoff_zone</th>\n      <th>pickup_borough</th>\n      <th>dropoff_borough</th>\n    </tr>\n  </thead>\n  <tbody>\n    <tr>\n      <th>0</th>\n      <td>2019-03-23 20:21:09</td>\n      <td>2019-03-23 20:27:24</td>\n      <td>1</td>\n      <td>1.60</td>\n      <td>7.0</td>\n      <td>2.15</td>\n      <td>0.0</td>\n      <td>12.95</td>\n      <td>yellow</td>\n      <td>credit card</td>\n      <td>Lenox Hill West</td>\n      <td>UN/Turtle Bay South</td>\n      <td>Manhattan</td>\n      <td>Manhattan</td>\n    </tr>\n    <tr>\n      <th>1</th>\n      <td>2019-03-04 16:11:55</td>\n      <td>2019-03-04 16:19:00</td>\n      <td>1</td>\n      <td>0.79</td>\n      <td>5.0</td>\n      <td>0.00</td>\n      <td>0.0</td>\n      <td>9.30</td>\n      <td>yellow</td>\n      <td>cash</td>\n      <td>Upper West Side South</td>\n      <td>Upper West Side South</td>\n      <td>Manhattan</td>\n      <td>Manhattan</td>\n    </tr>\n    <tr>\n      <th>2</th>\n      <td>2019-03-27 17:53:01</td>\n      <td>2019-03-27 18:00:25</td>\n      <td>1</td>\n      <td>1.37</td>\n      <td>7.5</td>\n      <td>2.36</td>\n      <td>0.0</td>\n      <td>14.16</td>\n      <td>yellow</td>\n      <td>credit card</td>\n      <td>Alphabet City</td>\n      <td>West Village</td>\n      <td>Manhattan</td>\n      <td>Manhattan</td>\n    </tr>\n    <tr>\n      <th>3</th>\n      <td>2019-03-10 01:23:59</td>\n      <td>2019-03-10 01:49:51</td>\n      <td>1</td>\n      <td>7.70</td>\n      <td>27.0</td>\n      <td>6.15</td>\n      <td>0.0</td>\n      <td>36.95</td>\n      <td>yellow</td>\n      <td>credit card</td>\n      <td>Hudson Sq</td>\n      <td>Yorkville West</td>\n      <td>Manhattan</td>\n      <td>Manhattan</td>\n    </tr>\n    <tr>\n      <th>4</th>\n      <td>2019-03-30 13:27:42</td>\n      <td>2019-03-30 13:37:14</td>\n      <td>3</td>\n      <td>2.16</td>\n      <td>9.0</td>\n      <td>1.10</td>\n      <td>0.0</td>\n      <td>13.40</td>\n      <td>yellow</td>\n      <td>credit card</td>\n      <td>Midtown East</td>\n      <td>Yorkville West</td>\n      <td>Manhattan</td>\n      <td>Manhattan</td>\n    </tr>\n  </tbody>\n</table>\n</div>"
     },
     "execution_count": 15,
     "metadata": {},
     "output_type": "execute_result"
    }
   ],
   "source": [
    "data.head()"
   ],
   "metadata": {
    "collapsed": false
   }
  },
  {
   "cell_type": "code",
   "execution_count": 16,
   "outputs": [
    {
     "data": {
      "text/plain": "pickup              0\ndropoff             0\npassengers          0\ndistance            0\nfare                0\ntip                 0\ntolls               0\ntotal               0\ncolor               0\npayment            44\npickup_zone        26\ndropoff_zone       45\npickup_borough     26\ndropoff_borough    45\ndtype: int64"
     },
     "execution_count": 16,
     "metadata": {},
     "output_type": "execute_result"
    }
   ],
   "source": [
    "data.isnull().sum()"
   ],
   "metadata": {
    "collapsed": false
   }
  },
  {
   "cell_type": "code",
   "execution_count": 17,
   "outputs": [
    {
     "data": {
      "text/plain": "pickup             6414\ndropoff            6425\npassengers            7\ndistance           1079\nfare                220\ntip                 489\ntolls                16\ntotal               898\ncolor                 2\npayment               2\npickup_zone         194\ndropoff_zone        203\npickup_borough        4\ndropoff_borough       5\ndtype: int64"
     },
     "execution_count": 17,
     "metadata": {},
     "output_type": "execute_result"
    }
   ],
   "source": [
    "data.nunique()"
   ],
   "metadata": {
    "collapsed": false
   }
  },
  {
   "cell_type": "code",
   "execution_count": 18,
   "outputs": [
    {
     "data": {
      "text/plain": "        passengers     distance         fare         tip        tolls  \\\ncount  6433.000000  6433.000000  6433.000000  6433.00000  6433.000000   \nmean      1.539251     3.024617    13.091073     1.97922     0.325273   \nstd       1.203768     3.827867    11.551804     2.44856     1.415267   \nmin       0.000000     0.000000     1.000000     0.00000     0.000000   \n25%       1.000000     0.980000     6.500000     0.00000     0.000000   \n50%       1.000000     1.640000     9.500000     1.70000     0.000000   \n75%       2.000000     3.210000    15.000000     2.80000     0.000000   \nmax       6.000000    36.700000   150.000000    33.20000    24.020000   \n\n             total  \ncount  6433.000000  \nmean     18.517794  \nstd      13.815570  \nmin       1.300000  \n25%      10.800000  \n50%      14.160000  \n75%      20.300000  \nmax     174.820000  ",
      "text/html": "<div>\n<style scoped>\n    .dataframe tbody tr th:only-of-type {\n        vertical-align: middle;\n    }\n\n    .dataframe tbody tr th {\n        vertical-align: top;\n    }\n\n    .dataframe thead th {\n        text-align: right;\n    }\n</style>\n<table border=\"1\" class=\"dataframe\">\n  <thead>\n    <tr style=\"text-align: right;\">\n      <th></th>\n      <th>passengers</th>\n      <th>distance</th>\n      <th>fare</th>\n      <th>tip</th>\n      <th>tolls</th>\n      <th>total</th>\n    </tr>\n  </thead>\n  <tbody>\n    <tr>\n      <th>count</th>\n      <td>6433.000000</td>\n      <td>6433.000000</td>\n      <td>6433.000000</td>\n      <td>6433.00000</td>\n      <td>6433.000000</td>\n      <td>6433.000000</td>\n    </tr>\n    <tr>\n      <th>mean</th>\n      <td>1.539251</td>\n      <td>3.024617</td>\n      <td>13.091073</td>\n      <td>1.97922</td>\n      <td>0.325273</td>\n      <td>18.517794</td>\n    </tr>\n    <tr>\n      <th>std</th>\n      <td>1.203768</td>\n      <td>3.827867</td>\n      <td>11.551804</td>\n      <td>2.44856</td>\n      <td>1.415267</td>\n      <td>13.815570</td>\n    </tr>\n    <tr>\n      <th>min</th>\n      <td>0.000000</td>\n      <td>0.000000</td>\n      <td>1.000000</td>\n      <td>0.00000</td>\n      <td>0.000000</td>\n      <td>1.300000</td>\n    </tr>\n    <tr>\n      <th>25%</th>\n      <td>1.000000</td>\n      <td>0.980000</td>\n      <td>6.500000</td>\n      <td>0.00000</td>\n      <td>0.000000</td>\n      <td>10.800000</td>\n    </tr>\n    <tr>\n      <th>50%</th>\n      <td>1.000000</td>\n      <td>1.640000</td>\n      <td>9.500000</td>\n      <td>1.70000</td>\n      <td>0.000000</td>\n      <td>14.160000</td>\n    </tr>\n    <tr>\n      <th>75%</th>\n      <td>2.000000</td>\n      <td>3.210000</td>\n      <td>15.000000</td>\n      <td>2.80000</td>\n      <td>0.000000</td>\n      <td>20.300000</td>\n    </tr>\n    <tr>\n      <th>max</th>\n      <td>6.000000</td>\n      <td>36.700000</td>\n      <td>150.000000</td>\n      <td>33.20000</td>\n      <td>24.020000</td>\n      <td>174.820000</td>\n    </tr>\n  </tbody>\n</table>\n</div>"
     },
     "execution_count": 18,
     "metadata": {},
     "output_type": "execute_result"
    }
   ],
   "source": [
    "data.describe()"
   ],
   "metadata": {
    "collapsed": false
   }
  },
  {
   "cell_type": "code",
   "execution_count": 20,
   "outputs": [
    {
     "ename": "ValueError",
     "evalue": "Could not interpret value `price` for parameter `x`",
     "output_type": "error",
     "traceback": [
      "\u001B[1;31m---------------------------------------------------------------------------\u001B[0m",
      "\u001B[1;31mValueError\u001B[0m                                Traceback (most recent call last)",
      "Cell \u001B[1;32mIn[20], line 12\u001B[0m\n\u001B[0;32m      9\u001B[0m f, ax \u001B[38;5;241m=\u001B[39m plt\u001B[38;5;241m.\u001B[39msubplots(figsize\u001B[38;5;241m=\u001B[39m(\u001B[38;5;241m7\u001B[39m, \u001B[38;5;241m5\u001B[39m))\n\u001B[0;32m     10\u001B[0m sb\u001B[38;5;241m.\u001B[39mdespine(f)\n\u001B[1;32m---> 12\u001B[0m \u001B[43msb\u001B[49m\u001B[38;5;241;43m.\u001B[39;49m\u001B[43mhistplot\u001B[49m\u001B[43m(\u001B[49m\n\u001B[0;32m     13\u001B[0m \u001B[43m    \u001B[49m\u001B[43mdiamonds\u001B[49m\u001B[43m,\u001B[49m\n\u001B[0;32m     14\u001B[0m \u001B[43m    \u001B[49m\u001B[43mx\u001B[49m\u001B[38;5;241;43m=\u001B[39;49m\u001B[38;5;124;43m\"\u001B[39;49m\u001B[38;5;124;43mprice\u001B[39;49m\u001B[38;5;124;43m\"\u001B[39;49m\u001B[43m,\u001B[49m\u001B[43m \u001B[49m\u001B[43mhue\u001B[49m\u001B[38;5;241;43m=\u001B[39;49m\u001B[38;5;124;43m\"\u001B[39;49m\u001B[38;5;124;43mcut\u001B[39;49m\u001B[38;5;124;43m\"\u001B[39;49m\u001B[43m,\u001B[49m\n\u001B[0;32m     15\u001B[0m \u001B[43m    \u001B[49m\u001B[43mmultiple\u001B[49m\u001B[38;5;241;43m=\u001B[39;49m\u001B[38;5;124;43m\"\u001B[39;49m\u001B[38;5;124;43mstack\u001B[39;49m\u001B[38;5;124;43m\"\u001B[39;49m\u001B[43m,\u001B[49m\n\u001B[0;32m     16\u001B[0m \u001B[43m    \u001B[49m\u001B[43mpalette\u001B[49m\u001B[38;5;241;43m=\u001B[39;49m\u001B[38;5;124;43m\"\u001B[39;49m\u001B[38;5;124;43mlight:m_r\u001B[39;49m\u001B[38;5;124;43m\"\u001B[39;49m\u001B[43m,\u001B[49m\n\u001B[0;32m     17\u001B[0m \u001B[43m    \u001B[49m\u001B[43medgecolor\u001B[49m\u001B[38;5;241;43m=\u001B[39;49m\u001B[38;5;124;43m\"\u001B[39;49m\u001B[38;5;124;43m.3\u001B[39;49m\u001B[38;5;124;43m\"\u001B[39;49m\u001B[43m,\u001B[49m\n\u001B[0;32m     18\u001B[0m \u001B[43m    \u001B[49m\u001B[43mlinewidth\u001B[49m\u001B[38;5;241;43m=\u001B[39;49m\u001B[38;5;241;43m.5\u001B[39;49m\u001B[43m,\u001B[49m\n\u001B[0;32m     19\u001B[0m \u001B[43m    \u001B[49m\u001B[43mlog_scale\u001B[49m\u001B[38;5;241;43m=\u001B[39;49m\u001B[38;5;28;43;01mTrue\u001B[39;49;00m\u001B[43m,\u001B[49m\n\u001B[0;32m     20\u001B[0m \u001B[43m)\u001B[49m\n\u001B[0;32m     21\u001B[0m ax\u001B[38;5;241m.\u001B[39mxaxis\u001B[38;5;241m.\u001B[39mset_major_formatter(plt\u001B[38;5;241m.\u001B[39mticker\u001B[38;5;241m.\u001B[39mScalarFormatter())\n\u001B[0;32m     22\u001B[0m ax\u001B[38;5;241m.\u001B[39mset_xticks([\u001B[38;5;241m500\u001B[39m, \u001B[38;5;241m1000\u001B[39m, \u001B[38;5;241m2000\u001B[39m, \u001B[38;5;241m5000\u001B[39m, \u001B[38;5;241m10000\u001B[39m])\n",
      "File \u001B[1;32m~\\anaconda3\\envs\\pythonProject\\lib\\site-packages\\seaborn\\distributions.py:1395\u001B[0m, in \u001B[0;36mhistplot\u001B[1;34m(data, x, y, hue, weights, stat, bins, binwidth, binrange, discrete, cumulative, common_bins, common_norm, multiple, element, fill, shrink, kde, kde_kws, line_kws, thresh, pthresh, pmax, cbar, cbar_ax, cbar_kws, palette, hue_order, hue_norm, color, log_scale, legend, ax, **kwargs)\u001B[0m\n\u001B[0;32m   1374\u001B[0m \u001B[38;5;28;01mdef\u001B[39;00m \u001B[38;5;21mhistplot\u001B[39m(\n\u001B[0;32m   1375\u001B[0m     data\u001B[38;5;241m=\u001B[39m\u001B[38;5;28;01mNone\u001B[39;00m, \u001B[38;5;241m*\u001B[39m,\n\u001B[0;32m   1376\u001B[0m     \u001B[38;5;66;03m# Vector variables\u001B[39;00m\n\u001B[1;32m   (...)\u001B[0m\n\u001B[0;32m   1392\u001B[0m     \u001B[38;5;241m*\u001B[39m\u001B[38;5;241m*\u001B[39mkwargs,\n\u001B[0;32m   1393\u001B[0m ):\n\u001B[1;32m-> 1395\u001B[0m     p \u001B[38;5;241m=\u001B[39m \u001B[43m_DistributionPlotter\u001B[49m\u001B[43m(\u001B[49m\n\u001B[0;32m   1396\u001B[0m \u001B[43m        \u001B[49m\u001B[43mdata\u001B[49m\u001B[38;5;241;43m=\u001B[39;49m\u001B[43mdata\u001B[49m\u001B[43m,\u001B[49m\n\u001B[0;32m   1397\u001B[0m \u001B[43m        \u001B[49m\u001B[43mvariables\u001B[49m\u001B[38;5;241;43m=\u001B[39;49m\u001B[43m_DistributionPlotter\u001B[49m\u001B[38;5;241;43m.\u001B[39;49m\u001B[43mget_semantics\u001B[49m\u001B[43m(\u001B[49m\u001B[38;5;28;43mlocals\u001B[39;49m\u001B[43m(\u001B[49m\u001B[43m)\u001B[49m\u001B[43m)\u001B[49m\n\u001B[0;32m   1398\u001B[0m \u001B[43m    \u001B[49m\u001B[43m)\u001B[49m\n\u001B[0;32m   1400\u001B[0m     p\u001B[38;5;241m.\u001B[39mmap_hue(palette\u001B[38;5;241m=\u001B[39mpalette, order\u001B[38;5;241m=\u001B[39mhue_order, norm\u001B[38;5;241m=\u001B[39mhue_norm)\n\u001B[0;32m   1402\u001B[0m     \u001B[38;5;28;01mif\u001B[39;00m ax \u001B[38;5;129;01mis\u001B[39;00m \u001B[38;5;28;01mNone\u001B[39;00m:\n",
      "File \u001B[1;32m~\\anaconda3\\envs\\pythonProject\\lib\\site-packages\\seaborn\\distributions.py:113\u001B[0m, in \u001B[0;36m_DistributionPlotter.__init__\u001B[1;34m(self, data, variables)\u001B[0m\n\u001B[0;32m    107\u001B[0m \u001B[38;5;28;01mdef\u001B[39;00m \u001B[38;5;21m__init__\u001B[39m(\n\u001B[0;32m    108\u001B[0m     \u001B[38;5;28mself\u001B[39m,\n\u001B[0;32m    109\u001B[0m     data\u001B[38;5;241m=\u001B[39m\u001B[38;5;28;01mNone\u001B[39;00m,\n\u001B[0;32m    110\u001B[0m     variables\u001B[38;5;241m=\u001B[39m{},\n\u001B[0;32m    111\u001B[0m ):\n\u001B[1;32m--> 113\u001B[0m     \u001B[38;5;28;43msuper\u001B[39;49m\u001B[43m(\u001B[49m\u001B[43m)\u001B[49m\u001B[38;5;241;43m.\u001B[39;49m\u001B[38;5;21;43m__init__\u001B[39;49m\u001B[43m(\u001B[49m\u001B[43mdata\u001B[49m\u001B[38;5;241;43m=\u001B[39;49m\u001B[43mdata\u001B[49m\u001B[43m,\u001B[49m\u001B[43m \u001B[49m\u001B[43mvariables\u001B[49m\u001B[38;5;241;43m=\u001B[39;49m\u001B[43mvariables\u001B[49m\u001B[43m)\u001B[49m\n",
      "File \u001B[1;32m~\\anaconda3\\envs\\pythonProject\\lib\\site-packages\\seaborn\\_oldcore.py:640\u001B[0m, in \u001B[0;36mVectorPlotter.__init__\u001B[1;34m(self, data, variables)\u001B[0m\n\u001B[0;32m    635\u001B[0m \u001B[38;5;66;03m# var_ordered is relevant only for categorical axis variables, and may\u001B[39;00m\n\u001B[0;32m    636\u001B[0m \u001B[38;5;66;03m# be better handled by an internal axis information object that tracks\u001B[39;00m\n\u001B[0;32m    637\u001B[0m \u001B[38;5;66;03m# such information and is set up by the scale_* methods. The analogous\u001B[39;00m\n\u001B[0;32m    638\u001B[0m \u001B[38;5;66;03m# information for numeric axes would be information about log scales.\u001B[39;00m\n\u001B[0;32m    639\u001B[0m \u001B[38;5;28mself\u001B[39m\u001B[38;5;241m.\u001B[39m_var_ordered \u001B[38;5;241m=\u001B[39m {\u001B[38;5;124m\"\u001B[39m\u001B[38;5;124mx\u001B[39m\u001B[38;5;124m\"\u001B[39m: \u001B[38;5;28;01mFalse\u001B[39;00m, \u001B[38;5;124m\"\u001B[39m\u001B[38;5;124my\u001B[39m\u001B[38;5;124m\"\u001B[39m: \u001B[38;5;28;01mFalse\u001B[39;00m}  \u001B[38;5;66;03m# alt., used DefaultDict\u001B[39;00m\n\u001B[1;32m--> 640\u001B[0m \u001B[38;5;28;43mself\u001B[39;49m\u001B[38;5;241;43m.\u001B[39;49m\u001B[43massign_variables\u001B[49m\u001B[43m(\u001B[49m\u001B[43mdata\u001B[49m\u001B[43m,\u001B[49m\u001B[43m \u001B[49m\u001B[43mvariables\u001B[49m\u001B[43m)\u001B[49m\n\u001B[0;32m    642\u001B[0m \u001B[38;5;28;01mfor\u001B[39;00m var, \u001B[38;5;28mcls\u001B[39m \u001B[38;5;129;01min\u001B[39;00m \u001B[38;5;28mself\u001B[39m\u001B[38;5;241m.\u001B[39m_semantic_mappings\u001B[38;5;241m.\u001B[39mitems():\n\u001B[0;32m    643\u001B[0m \n\u001B[0;32m    644\u001B[0m     \u001B[38;5;66;03m# Create the mapping function\u001B[39;00m\n\u001B[0;32m    645\u001B[0m     map_func \u001B[38;5;241m=\u001B[39m partial(\u001B[38;5;28mcls\u001B[39m\u001B[38;5;241m.\u001B[39mmap, plotter\u001B[38;5;241m=\u001B[39m\u001B[38;5;28mself\u001B[39m)\n",
      "File \u001B[1;32m~\\anaconda3\\envs\\pythonProject\\lib\\site-packages\\seaborn\\_oldcore.py:701\u001B[0m, in \u001B[0;36mVectorPlotter.assign_variables\u001B[1;34m(self, data, variables)\u001B[0m\n\u001B[0;32m    699\u001B[0m \u001B[38;5;28;01melse\u001B[39;00m:\n\u001B[0;32m    700\u001B[0m     \u001B[38;5;28mself\u001B[39m\u001B[38;5;241m.\u001B[39minput_format \u001B[38;5;241m=\u001B[39m \u001B[38;5;124m\"\u001B[39m\u001B[38;5;124mlong\u001B[39m\u001B[38;5;124m\"\u001B[39m\n\u001B[1;32m--> 701\u001B[0m     plot_data, variables \u001B[38;5;241m=\u001B[39m \u001B[38;5;28mself\u001B[39m\u001B[38;5;241m.\u001B[39m_assign_variables_longform(\n\u001B[0;32m    702\u001B[0m         data, \u001B[38;5;241m*\u001B[39m\u001B[38;5;241m*\u001B[39mvariables,\n\u001B[0;32m    703\u001B[0m     )\n\u001B[0;32m    705\u001B[0m \u001B[38;5;28mself\u001B[39m\u001B[38;5;241m.\u001B[39mplot_data \u001B[38;5;241m=\u001B[39m plot_data\n\u001B[0;32m    706\u001B[0m \u001B[38;5;28mself\u001B[39m\u001B[38;5;241m.\u001B[39mvariables \u001B[38;5;241m=\u001B[39m variables\n",
      "File \u001B[1;32m~\\anaconda3\\envs\\pythonProject\\lib\\site-packages\\seaborn\\_oldcore.py:938\u001B[0m, in \u001B[0;36mVectorPlotter._assign_variables_longform\u001B[1;34m(self, data, **kwargs)\u001B[0m\n\u001B[0;32m    933\u001B[0m \u001B[38;5;28;01melif\u001B[39;00m \u001B[38;5;28misinstance\u001B[39m(val, (\u001B[38;5;28mstr\u001B[39m, \u001B[38;5;28mbytes\u001B[39m)):\n\u001B[0;32m    934\u001B[0m \n\u001B[0;32m    935\u001B[0m     \u001B[38;5;66;03m# This looks like a column name but we don't know what it means!\u001B[39;00m\n\u001B[0;32m    937\u001B[0m     err \u001B[38;5;241m=\u001B[39m \u001B[38;5;124mf\u001B[39m\u001B[38;5;124m\"\u001B[39m\u001B[38;5;124mCould not interpret value `\u001B[39m\u001B[38;5;132;01m{\u001B[39;00mval\u001B[38;5;132;01m}\u001B[39;00m\u001B[38;5;124m` for parameter `\u001B[39m\u001B[38;5;132;01m{\u001B[39;00mkey\u001B[38;5;132;01m}\u001B[39;00m\u001B[38;5;124m`\u001B[39m\u001B[38;5;124m\"\u001B[39m\n\u001B[1;32m--> 938\u001B[0m     \u001B[38;5;28;01mraise\u001B[39;00m \u001B[38;5;167;01mValueError\u001B[39;00m(err)\n\u001B[0;32m    940\u001B[0m \u001B[38;5;28;01melse\u001B[39;00m:\n\u001B[0;32m    941\u001B[0m \n\u001B[0;32m    942\u001B[0m     \u001B[38;5;66;03m# Otherwise, assume the value is itself data\u001B[39;00m\n\u001B[0;32m    943\u001B[0m \n\u001B[0;32m    944\u001B[0m     \u001B[38;5;66;03m# Raise when data object is present and a vector can't matched\u001B[39;00m\n\u001B[0;32m    945\u001B[0m     \u001B[38;5;28;01mif\u001B[39;00m \u001B[38;5;28misinstance\u001B[39m(data, pd\u001B[38;5;241m.\u001B[39mDataFrame) \u001B[38;5;129;01mand\u001B[39;00m \u001B[38;5;129;01mnot\u001B[39;00m \u001B[38;5;28misinstance\u001B[39m(val, pd\u001B[38;5;241m.\u001B[39mSeries):\n",
      "\u001B[1;31mValueError\u001B[0m: Could not interpret value `price` for parameter `x`"
     ]
    },
    {
     "data": {
      "text/plain": "<Figure size 700x500 with 1 Axes>",
      "image/png": "[encoded data removed]"
     },
     "metadata": {},
     "output_type": "display_data"
    }
   ],
   "source": [
    "import matplotlib.pyplot as plt\n",
    "import seaborn as sb\n",
    "\n",
    "\n",
    "sb.set_theme(style=\"ticks\")\n",
    "\n",
    "diamonds = sb.load_dataset(\"taxis\")\n",
    "\n",
    "f, ax = plt.subplots(figsize=(7, 5))\n",
    "sb.despine(f)\n",
    "\n",
    "sb.histplot(\n",
    "    diamonds,\n",
    "    x=\"price\", hue=\"cut\",\n",
    "    multiple=\"stack\",\n",
    "    palette=\"light:m_r\",\n",
    "    edgecolor=\".3\",\n",
    "    linewidth=.5,\n",
    "    log_scale=True,\n",
    ")\n",
    "ax.xaxis.set_major_formatter(plt.ticker.ScalarFormatter())\n",
    "ax.set_xticks([500, 1000, 2000, 5000, 10000])"
   ],
   "metadata": {
    "collapsed": false
   }
  },
  {
   "cell_type": "code",
   "execution_count": 18,
   "outputs": [],
   "source": [
    "import datetime\n"
   ],
   "metadata": {
    "collapsed": false
   }
  },
  {
   "cell_type": "code",
   "execution_count": 26,
   "outputs": [
    {
     "ename": "KeyError",
     "evalue": "'pickup_datetime'",
     "output_type": "error",
     "traceback": [
      "\u001B[1;31m---------------------------------------------------------------------------\u001B[0m",
      "\u001B[1;31mKeyError\u001B[0m                                  Traceback (most recent call last)",
      "File \u001B[1;32m~\\anaconda3\\envs\\pythonProject\\lib\\site-packages\\pandas\\core\\indexes\\base.py:3803\u001B[0m, in \u001B[0;36mIndex.get_loc\u001B[1;34m(self, key, method, tolerance)\u001B[0m\n\u001B[0;32m   3802\u001B[0m \u001B[38;5;28;01mtry\u001B[39;00m:\n\u001B[1;32m-> 3803\u001B[0m     \u001B[38;5;28;01mreturn\u001B[39;00m \u001B[38;5;28;43mself\u001B[39;49m\u001B[38;5;241;43m.\u001B[39;49m\u001B[43m_engine\u001B[49m\u001B[38;5;241;43m.\u001B[39;49m\u001B[43mget_loc\u001B[49m\u001B[43m(\u001B[49m\u001B[43mcasted_key\u001B[49m\u001B[43m)\u001B[49m\n\u001B[0;32m   3804\u001B[0m \u001B[38;5;28;01mexcept\u001B[39;00m \u001B[38;5;167;01mKeyError\u001B[39;00m \u001B[38;5;28;01mas\u001B[39;00m err:\n",
      "File \u001B[1;32m~\\anaconda3\\envs\\pythonProject\\lib\\site-packages\\pandas\\_libs\\index.pyx:138\u001B[0m, in \u001B[0;36mpandas._libs.index.IndexEngine.get_loc\u001B[1;34m()\u001B[0m\n",
      "File \u001B[1;32m~\\anaconda3\\envs\\pythonProject\\lib\\site-packages\\pandas\\_libs\\index.pyx:165\u001B[0m, in \u001B[0;36mpandas._libs.index.IndexEngine.get_loc\u001B[1;34m()\u001B[0m\n",
      "File \u001B[1;32mpandas\\_libs\\hashtable_class_helper.pxi:5745\u001B[0m, in \u001B[0;36mpandas._libs.hashtable.PyObjectHashTable.get_item\u001B[1;34m()\u001B[0m\n",
      "File \u001B[1;32mpandas\\_libs\\hashtable_class_helper.pxi:5753\u001B[0m, in \u001B[0;36mpandas._libs.hashtable.PyObjectHashTable.get_item\u001B[1;34m()\u001B[0m\n",
      "\u001B[1;31mKeyError\u001B[0m: 'pickup_datetime'",
      "\nThe above exception was the direct cause of the following exception:\n",
      "\u001B[1;31mKeyError\u001B[0m                                  Traceback (most recent call last)",
      "Cell \u001B[1;32mIn[26], line 1\u001B[0m\n\u001B[1;32m----> 1\u001B[0m data[\u001B[38;5;124m'\u001B[39m\u001B[38;5;124mpickup_hour\u001B[39m\u001B[38;5;124m'\u001B[39m]\u001B[38;5;241m=\u001B[39m\u001B[43mdata\u001B[49m\u001B[43m[\u001B[49m\u001B[38;5;124;43m'\u001B[39;49m\u001B[38;5;124;43mpickup_datetime\u001B[39;49m\u001B[38;5;124;43m'\u001B[39;49m\u001B[43m]\u001B[49m\u001B[38;5;241m.\u001B[39mdt\u001B[38;5;241m.\u001B[39mhour\n\u001B[0;32m      2\u001B[0m data[\u001B[38;5;124m'\u001B[39m\u001B[38;5;124mdropoff_hour\u001B[39m\u001B[38;5;124m'\u001B[39m]\u001B[38;5;241m=\u001B[39mdata[\u001B[38;5;124m'\u001B[39m\u001B[38;5;124mdropoff_datetime\u001B[39m\u001B[38;5;124m'\u001B[39m]\u001B[38;5;241m.\u001B[39mdt\u001B[38;5;241m.\u001B[39mhour\n",
      "File \u001B[1;32m~\\anaconda3\\envs\\pythonProject\\lib\\site-packages\\pandas\\core\\frame.py:3805\u001B[0m, in \u001B[0;36mDataFrame.__getitem__\u001B[1;34m(self, key)\u001B[0m\n\u001B[0;32m   3803\u001B[0m \u001B[38;5;28;01mif\u001B[39;00m \u001B[38;5;28mself\u001B[39m\u001B[38;5;241m.\u001B[39mcolumns\u001B[38;5;241m.\u001B[39mnlevels \u001B[38;5;241m>\u001B[39m \u001B[38;5;241m1\u001B[39m:\n\u001B[0;32m   3804\u001B[0m     \u001B[38;5;28;01mreturn\u001B[39;00m \u001B[38;5;28mself\u001B[39m\u001B[38;5;241m.\u001B[39m_getitem_multilevel(key)\n\u001B[1;32m-> 3805\u001B[0m indexer \u001B[38;5;241m=\u001B[39m \u001B[38;5;28;43mself\u001B[39;49m\u001B[38;5;241;43m.\u001B[39;49m\u001B[43mcolumns\u001B[49m\u001B[38;5;241;43m.\u001B[39;49m\u001B[43mget_loc\u001B[49m\u001B[43m(\u001B[49m\u001B[43mkey\u001B[49m\u001B[43m)\u001B[49m\n\u001B[0;32m   3806\u001B[0m \u001B[38;5;28;01mif\u001B[39;00m is_integer(indexer):\n\u001B[0;32m   3807\u001B[0m     indexer \u001B[38;5;241m=\u001B[39m [indexer]\n",
      "File \u001B[1;32m~\\anaconda3\\envs\\pythonProject\\lib\\site-packages\\pandas\\core\\indexes\\base.py:3805\u001B[0m, in \u001B[0;36mIndex.get_loc\u001B[1;34m(self, key, method, tolerance)\u001B[0m\n\u001B[0;32m   3803\u001B[0m     \u001B[38;5;28;01mreturn\u001B[39;00m \u001B[38;5;28mself\u001B[39m\u001B[38;5;241m.\u001B[39m_engine\u001B[38;5;241m.\u001B[39mget_loc(casted_key)\n\u001B[0;32m   3804\u001B[0m \u001B[38;5;28;01mexcept\u001B[39;00m \u001B[38;5;167;01mKeyError\u001B[39;00m \u001B[38;5;28;01mas\u001B[39;00m err:\n\u001B[1;32m-> 3805\u001B[0m     \u001B[38;5;28;01mraise\u001B[39;00m \u001B[38;5;167;01mKeyError\u001B[39;00m(key) \u001B[38;5;28;01mfrom\u001B[39;00m \u001B[38;5;21;01merr\u001B[39;00m\n\u001B[0;32m   3806\u001B[0m \u001B[38;5;28;01mexcept\u001B[39;00m \u001B[38;5;167;01mTypeError\u001B[39;00m:\n\u001B[0;32m   3807\u001B[0m     \u001B[38;5;66;03m# If we have a listlike key, _check_indexing_error will raise\u001B[39;00m\n\u001B[0;32m   3808\u001B[0m     \u001B[38;5;66;03m#  InvalidIndexError. Otherwise we fall through and re-raise\u001B[39;00m\n\u001B[0;32m   3809\u001B[0m     \u001B[38;5;66;03m#  the TypeError.\u001B[39;00m\n\u001B[0;32m   3810\u001B[0m     \u001B[38;5;28mself\u001B[39m\u001B[38;5;241m.\u001B[39m_check_indexing_error(key)\n",
      "\u001B[1;31mKeyError\u001B[0m: 'pickup_datetime'"
     ]
    }
   ],
   "source": [
    "data['pickup_hour']=data['pickup_datetime'].dt.hour\n",
    "data['dropoff_hour']=data['dropoff_datetime'].dt.hour"
   ],
   "metadata": {
    "collapsed": false
   }
  },
  {
   "cell_type": "code",
   "execution_count": 29,
   "outputs": [
    {
     "ename": "KeyError",
     "evalue": "'pickup_datetime'",
     "output_type": "error",
     "traceback": [
      "\u001B[1;31m---------------------------------------------------------------------------\u001B[0m",
      "\u001B[1;31mKeyError\u001B[0m                                  Traceback (most recent call last)",
      "File \u001B[1;32m~\\anaconda3\\envs\\pythonProject\\lib\\site-packages\\pandas\\core\\indexes\\base.py:3803\u001B[0m, in \u001B[0;36mIndex.get_loc\u001B[1;34m(self, key, method, tolerance)\u001B[0m\n\u001B[0;32m   3802\u001B[0m \u001B[38;5;28;01mtry\u001B[39;00m:\n\u001B[1;32m-> 3803\u001B[0m     \u001B[38;5;28;01mreturn\u001B[39;00m \u001B[38;5;28;43mself\u001B[39;49m\u001B[38;5;241;43m.\u001B[39;49m\u001B[43m_engine\u001B[49m\u001B[38;5;241;43m.\u001B[39;49m\u001B[43mget_loc\u001B[49m\u001B[43m(\u001B[49m\u001B[43mcasted_key\u001B[49m\u001B[43m)\u001B[49m\n\u001B[0;32m   3804\u001B[0m \u001B[38;5;28;01mexcept\u001B[39;00m \u001B[38;5;167;01mKeyError\u001B[39;00m \u001B[38;5;28;01mas\u001B[39;00m err:\n",
      "File \u001B[1;32m~\\anaconda3\\envs\\pythonProject\\lib\\site-packages\\pandas\\_libs\\index.pyx:138\u001B[0m, in \u001B[0;36mpandas._libs.index.IndexEngine.get_loc\u001B[1;34m()\u001B[0m\n",
      "File \u001B[1;32m~\\anaconda3\\envs\\pythonProject\\lib\\site-packages\\pandas\\_libs\\index.pyx:165\u001B[0m, in \u001B[0;36mpandas._libs.index.IndexEngine.get_loc\u001B[1;34m()\u001B[0m\n",
      "File \u001B[1;32mpandas\\_libs\\hashtable_class_helper.pxi:5745\u001B[0m, in \u001B[0;36mpandas._libs.hashtable.PyObjectHashTable.get_item\u001B[1;34m()\u001B[0m\n",
      "File \u001B[1;32mpandas\\_libs\\hashtable_class_helper.pxi:5753\u001B[0m, in \u001B[0;36mpandas._libs.hashtable.PyObjectHashTable.get_item\u001B[1;34m()\u001B[0m\n",
      "\u001B[1;31mKeyError\u001B[0m: 'pickup_datetime'",
      "\nThe above exception was the direct cause of the following exception:\n",
      "\u001B[1;31mKeyError\u001B[0m                                  Traceback (most recent call last)",
      "Cell \u001B[1;32mIn[29], line 1\u001B[0m\n\u001B[1;32m----> 1\u001B[0m data[\u001B[38;5;124m'\u001B[39m\u001B[38;5;124mpickup_month\u001B[39m\u001B[38;5;124m'\u001B[39m]\u001B[38;5;241m=\u001B[39m\u001B[43mdata\u001B[49m\u001B[43m[\u001B[49m\u001B[38;5;124;43m'\u001B[39;49m\u001B[38;5;124;43mpickup_datetime\u001B[39;49m\u001B[38;5;124;43m'\u001B[39;49m\u001B[43m]\u001B[49m\u001B[38;5;241m.\u001B[39mdt\u001B[38;5;241m.\u001B[39mmonth\n\u001B[0;32m      2\u001B[0m data[\u001B[38;5;124m'\u001B[39m\u001B[38;5;124mdropoff_month\u001B[39m\u001B[38;5;124m'\u001B[39m]\u001B[38;5;241m=\u001B[39mdata[\u001B[38;5;124m'\u001B[39m\u001B[38;5;124mdropoff_datetime\u001B[39m\u001B[38;5;124m'\u001B[39m]\u001B[38;5;241m.\u001B[39mdt\u001B[38;5;241m.\u001B[39mmonth\n",
      "File \u001B[1;32m~\\anaconda3\\envs\\pythonProject\\lib\\site-packages\\pandas\\core\\frame.py:3805\u001B[0m, in \u001B[0;36mDataFrame.__getitem__\u001B[1;34m(self, key)\u001B[0m\n\u001B[0;32m   3803\u001B[0m \u001B[38;5;28;01mif\u001B[39;00m \u001B[38;5;28mself\u001B[39m\u001B[38;5;241m.\u001B[39mcolumns\u001B[38;5;241m.\u001B[39mnlevels \u001B[38;5;241m>\u001B[39m \u001B[38;5;241m1\u001B[39m:\n\u001B[0;32m   3804\u001B[0m     \u001B[38;5;28;01mreturn\u001B[39;00m \u001B[38;5;28mself\u001B[39m\u001B[38;5;241m.\u001B[39m_getitem_multilevel(key)\n\u001B[1;32m-> 3805\u001B[0m indexer \u001B[38;5;241m=\u001B[39m \u001B[38;5;28;43mself\u001B[39;49m\u001B[38;5;241;43m.\u001B[39;49m\u001B[43mcolumns\u001B[49m\u001B[38;5;241;43m.\u001B[39;49m\u001B[43mget_loc\u001B[49m\u001B[43m(\u001B[49m\u001B[43mkey\u001B[49m\u001B[43m)\u001B[49m\n\u001B[0;32m   3806\u001B[0m \u001B[38;5;28;01mif\u001B[39;00m is_integer(indexer):\n\u001B[0;32m   3807\u001B[0m     indexer \u001B[38;5;241m=\u001B[39m [indexer]\n",
      "File \u001B[1;32m~\\anaconda3\\envs\\pythonProject\\lib\\site-packages\\pandas\\core\\indexes\\base.py:3805\u001B[0m, in \u001B[0;36mIndex.get_loc\u001B[1;34m(self, key, method, tolerance)\u001B[0m\n\u001B[0;32m   3803\u001B[0m     \u001B[38;5;28;01mreturn\u001B[39;00m \u001B[38;5;28mself\u001B[39m\u001B[38;5;241m.\u001B[39m_engine\u001B[38;5;241m.\u001B[39mget_loc(casted_key)\n\u001B[0;32m   3804\u001B[0m \u001B[38;5;28;01mexcept\u001B[39;00m \u001B[38;5;167;01mKeyError\u001B[39;00m \u001B[38;5;28;01mas\u001B[39;00m err:\n\u001B[1;32m-> 3805\u001B[0m     \u001B[38;5;28;01mraise\u001B[39;00m \u001B[38;5;167;01mKeyError\u001B[39;00m(key) \u001B[38;5;28;01mfrom\u001B[39;00m \u001B[38;5;21;01merr\u001B[39;00m\n\u001B[0;32m   3806\u001B[0m \u001B[38;5;28;01mexcept\u001B[39;00m \u001B[38;5;167;01mTypeError\u001B[39;00m:\n\u001B[0;32m   3807\u001B[0m     \u001B[38;5;66;03m# If we have a listlike key, _check_indexing_error will raise\u001B[39;00m\n\u001B[0;32m   3808\u001B[0m     \u001B[38;5;66;03m#  InvalidIndexError. Otherwise we fall through and re-raise\u001B[39;00m\n\u001B[0;32m   3809\u001B[0m     \u001B[38;5;66;03m#  the TypeError.\u001B[39;00m\n\u001B[0;32m   3810\u001B[0m     \u001B[38;5;28mself\u001B[39m\u001B[38;5;241m.\u001B[39m_check_indexing_error(key)\n",
      "\u001B[1;31mKeyError\u001B[0m: 'pickup_datetime'"
     ]
    }
   ],
   "source": [
    "data['pickup_month']=data['pickup_datetime'].dt.month\n",
    "data['dropoff_month']=data['dropoff_datetime'].dt.month"
   ],
   "metadata": {
    "collapsed": false
   }
  },
  {
   "cell_type": "code",
   "execution_count": 38,
   "outputs": [
    {
     "data": {
      "text/plain": "                   pickup              dropoff  passengers  distance  fare  \\\n0     2019-03-23 20:21:09  2019-03-23 20:27:24           1      1.60   7.0   \n1     2019-03-04 16:11:55  2019-03-04 16:19:00           1      0.79   5.0   \n2     2019-03-27 17:53:01  2019-03-27 18:00:25           1      1.37   7.5   \n3     2019-03-10 01:23:59  2019-03-10 01:49:51           1      7.70  27.0   \n4     2019-03-30 13:27:42  2019-03-30 13:37:14           3      2.16   9.0   \n...                   ...                  ...         ...       ...   ...   \n6428  2019-03-31 09:51:53  2019-03-31 09:55:27           1      0.75   4.5   \n6429  2019-03-31 17:38:00  2019-03-31 18:34:23           1     18.74  58.0   \n6430  2019-03-23 22:55:18  2019-03-23 23:14:25           1      4.14  16.0   \n6431  2019-03-04 10:09:25  2019-03-04 10:14:29           1      1.12   6.0   \n6432  2019-03-13 19:31:22  2019-03-13 19:48:02           1      3.85  15.0   \n\n       tip  tolls  total   color      payment            pickup_zone  \\\n0     2.15    0.0  12.95  yellow  credit card        Lenox Hill West   \n1     0.00    0.0   9.30  yellow         cash  Upper West Side South   \n2     2.36    0.0  14.16  yellow  credit card          Alphabet City   \n3     6.15    0.0  36.95  yellow  credit card              Hudson Sq   \n4     1.10    0.0  13.40  yellow  credit card           Midtown East   \n...    ...    ...    ...     ...          ...                    ...   \n6428  1.06    0.0   6.36   green  credit card      East Harlem North   \n6429  0.00    0.0  58.80   green  credit card                Jamaica   \n6430  0.00    0.0  17.30   green         cash    Crown Heights North   \n6431  0.00    0.0   6.80   green  credit card          East New York   \n6432  3.36    0.0  20.16   green  credit card            Boerum Hill   \n\n                          dropoff_zone pickup_borough dropoff_borough  \n0                  UN/Turtle Bay South      Manhattan       Manhattan  \n1                Upper West Side South      Manhattan       Manhattan  \n2                         West Village      Manhattan       Manhattan  \n3                       Yorkville West      Manhattan       Manhattan  \n4                       Yorkville West      Manhattan       Manhattan  \n...                                ...            ...             ...  \n6428              Central Harlem North      Manhattan       Manhattan  \n6429  East Concourse/Concourse Village         Queens           Bronx  \n6430                    Bushwick North       Brooklyn        Brooklyn  \n6431      East Flatbush/Remsen Village       Brooklyn        Brooklyn  \n6432                   Windsor Terrace       Brooklyn        Brooklyn  \n\n[6433 rows x 14 columns]",
      "text/html": "<div>\n<style scoped>\n    .dataframe tbody tr th:only-of-type {\n        vertical-align: middle;\n    }\n\n    .dataframe tbody tr th {\n        vertical-align: top;\n    }\n\n    .dataframe thead th {\n        text-align: right;\n    }\n</style>\n<table border=\"1\" class=\"dataframe\">\n  <thead>\n    <tr style=\"text-align: right;\">\n      <th></th>\n      <th>pickup</th>\n      <th>dropoff</th>\n      <th>passengers</th>\n      <th>distance</th>\n      <th>fare</th>\n      <th>tip</th>\n      <th>tolls</th>\n      <th>total</th>\n      <th>color</th>\n      <th>payment</th>\n      <th>pickup_zone</th>\n      <th>dropoff_zone</th>\n      <th>pickup_borough</th>\n      <th>dropoff_borough</th>\n    </tr>\n  </thead>\n  <tbody>\n    <tr>\n      <th>0</th>\n      <td>2019-03-23 20:21:09</td>\n      <td>2019-03-23 20:27:24</td>\n      <td>1</td>\n      <td>1.60</td>\n      <td>7.0</td>\n      <td>2.15</td>\n      <td>0.0</td>\n      <td>12.95</td>\n      <td>yellow</td>\n      <td>credit card</td>\n      <td>Lenox Hill West</td>\n      <td>UN/Turtle Bay South</td>\n      <td>Manhattan</td>\n      <td>Manhattan</td>\n    </tr>\n    <tr>\n      <th>1</th>\n      <td>2019-03-04 16:11:55</td>\n      <td>2019-03-04 16:19:00</td>\n      <td>1</td>\n      <td>0.79</td>\n      <td>5.0</td>\n      <td>0.00</td>\n      <td>0.0</td>\n      <td>9.30</td>\n      <td>yellow</td>\n      <td>cash</td>\n      <td>Upper West Side South</td>\n      <td>Upper West Side South</td>\n      <td>Manhattan</td>\n      <td>Manhattan</td>\n    </tr>\n    <tr>\n      <th>2</th>\n      <td>2019-03-27 17:53:01</td>\n      <td>2019-03-27 18:00:25</td>\n      <td>1</td>\n      <td>1.37</td>\n      <td>7.5</td>\n      <td>2.36</td>\n      <td>0.0</td>\n      <td>14.16</td>\n      <td>yellow</td>\n      <td>credit card</td>\n      <td>Alphabet City</td>\n      <td>West Village</td>\n      <td>Manhattan</td>\n      <td>Manhattan</td>\n    </tr>\n    <tr>\n      <th>3</th>\n      <td>2019-03-10 01:23:59</td>\n      <td>2019-03-10 01:49:51</td>\n      <td>1</td>\n      <td>7.70</td>\n      <td>27.0</td>\n      <td>6.15</td>\n      <td>0.0</td>\n      <td>36.95</td>\n      <td>yellow</td>\n      <td>credit card</td>\n      <td>Hudson Sq</td>\n      <td>Yorkville West</td>\n      <td>Manhattan</td>\n      <td>Manhattan</td>\n    </tr>\n    <tr>\n      <th>4</th>\n      <td>2019-03-30 13:27:42</td>\n      <td>2019-03-30 13:37:14</td>\n      <td>3</td>\n      <td>2.16</td>\n      <td>9.0</td>\n      <td>1.10</td>\n      <td>0.0</td>\n      <td>13.40</td>\n      <td>yellow</td>\n      <td>credit card</td>\n      <td>Midtown East</td>\n      <td>Yorkville West</td>\n      <td>Manhattan</td>\n      <td>Manhattan</td>\n    </tr>\n    <tr>\n      <th>...</th>\n      <td>...</td>\n      <td>...</td>\n      <td>...</td>\n      <td>...</td>\n      <td>...</td>\n      <td>...</td>\n      <td>...</td>\n      <td>...</td>\n      <td>...</td>\n      <td>...</td>\n      <td>...</td>\n      <td>...</td>\n      <td>...</td>\n      <td>...</td>\n    </tr>\n    <tr>\n      <th>6428</th>\n      <td>2019-03-31 09:51:53</td>\n      <td>2019-03-31 09:55:27</td>\n      <td>1</td>\n      <td>0.75</td>\n      <td>4.5</td>\n      <td>1.06</td>\n      <td>0.0</td>\n      <td>6.36</td>\n      <td>green</td>\n      <td>credit card</td>\n      <td>East Harlem North</td>\n      <td>Central Harlem North</td>\n      <td>Manhattan</td>\n      <td>Manhattan</td>\n    </tr>\n    <tr>\n      <th>6429</th>\n      <td>2019-03-31 17:38:00</td>\n      <td>2019-03-31 18:34:23</td>\n      <td>1</td>\n      <td>18.74</td>\n      <td>58.0</td>\n      <td>0.00</td>\n      <td>0.0</td>\n      <td>58.80</td>\n      <td>green</td>\n      <td>credit card</td>\n      <td>Jamaica</td>\n      <td>East Concourse/Concourse Village</td>\n      <td>Queens</td>\n      <td>Bronx</td>\n    </tr>\n    <tr>\n      <th>6430</th>\n      <td>2019-03-23 22:55:18</td>\n      <td>2019-03-23 23:14:25</td>\n      <td>1</td>\n      <td>4.14</td>\n      <td>16.0</td>\n      <td>0.00</td>\n      <td>0.0</td>\n      <td>17.30</td>\n      <td>green</td>\n      <td>cash</td>\n      <td>Crown Heights North</td>\n      <td>Bushwick North</td>\n      <td>Brooklyn</td>\n      <td>Brooklyn</td>\n    </tr>\n    <tr>\n      <th>6431</th>\n      <td>2019-03-04 10:09:25</td>\n      <td>2019-03-04 10:14:29</td>\n      <td>1</td>\n      <td>1.12</td>\n      <td>6.0</td>\n      <td>0.00</td>\n      <td>0.0</td>\n      <td>6.80</td>\n      <td>green</td>\n      <td>credit card</td>\n      <td>East New York</td>\n      <td>East Flatbush/Remsen Village</td>\n      <td>Brooklyn</td>\n      <td>Brooklyn</td>\n    </tr>\n    <tr>\n      <th>6432</th>\n      <td>2019-03-13 19:31:22</td>\n      <td>2019-03-13 19:48:02</td>\n      <td>1</td>\n      <td>3.85</td>\n      <td>15.0</td>\n      <td>3.36</td>\n      <td>0.0</td>\n      <td>20.16</td>\n      <td>green</td>\n      <td>credit card</td>\n      <td>Boerum Hill</td>\n      <td>Windsor Terrace</td>\n      <td>Brooklyn</td>\n      <td>Brooklyn</td>\n    </tr>\n  </tbody>\n</table>\n<p>6433 rows × 14 columns</p>\n</div>"
     },
     "execution_count": 38,
     "metadata": {},
     "output_type": "execute_result"
    }
   ],
   "source": [
    "def time_of_day(x):\n",
    "    if x in range(6,12):\n",
    "        return 'Morning'\n",
    "    elif x in range(12,16):\n",
    "        return 'Afternoon'\n",
    "    elif x in range(16,22):\n",
    "        return 'Evening'\n",
    "    else:\n",
    "        return 'Late night'\n",
    "data"
   ],
   "metadata": {
    "collapsed": false
   }
  },
  {
   "cell_type": "code",
   "execution_count": 43,
   "outputs": [
    {
     "ename": "KeyError",
     "evalue": "'pickup_hour'",
     "output_type": "error",
     "traceback": [
      "\u001B[1;31m---------------------------------------------------------------------------\u001B[0m",
      "\u001B[1;31mKeyError\u001B[0m                                  Traceback (most recent call last)",
      "File \u001B[1;32m~\\anaconda3\\envs\\pythonProject\\lib\\site-packages\\pandas\\core\\indexes\\base.py:3803\u001B[0m, in \u001B[0;36mIndex.get_loc\u001B[1;34m(self, key, method, tolerance)\u001B[0m\n\u001B[0;32m   3802\u001B[0m \u001B[38;5;28;01mtry\u001B[39;00m:\n\u001B[1;32m-> 3803\u001B[0m     \u001B[38;5;28;01mreturn\u001B[39;00m \u001B[38;5;28;43mself\u001B[39;49m\u001B[38;5;241;43m.\u001B[39;49m\u001B[43m_engine\u001B[49m\u001B[38;5;241;43m.\u001B[39;49m\u001B[43mget_loc\u001B[49m\u001B[43m(\u001B[49m\u001B[43mcasted_key\u001B[49m\u001B[43m)\u001B[49m\n\u001B[0;32m   3804\u001B[0m \u001B[38;5;28;01mexcept\u001B[39;00m \u001B[38;5;167;01mKeyError\u001B[39;00m \u001B[38;5;28;01mas\u001B[39;00m err:\n",
      "File \u001B[1;32m~\\anaconda3\\envs\\pythonProject\\lib\\site-packages\\pandas\\_libs\\index.pyx:138\u001B[0m, in \u001B[0;36mpandas._libs.index.IndexEngine.get_loc\u001B[1;34m()\u001B[0m\n",
      "File \u001B[1;32m~\\anaconda3\\envs\\pythonProject\\lib\\site-packages\\pandas\\_libs\\index.pyx:165\u001B[0m, in \u001B[0;36mpandas._libs.index.IndexEngine.get_loc\u001B[1;34m()\u001B[0m\n",
      "File \u001B[1;32mpandas\\_libs\\hashtable_class_helper.pxi:5745\u001B[0m, in \u001B[0;36mpandas._libs.hashtable.PyObjectHashTable.get_item\u001B[1;34m()\u001B[0m\n",
      "File \u001B[1;32mpandas\\_libs\\hashtable_class_helper.pxi:5753\u001B[0m, in \u001B[0;36mpandas._libs.hashtable.PyObjectHashTable.get_item\u001B[1;34m()\u001B[0m\n",
      "\u001B[1;31mKeyError\u001B[0m: 'pickup_hour'",
      "\nThe above exception was the direct cause of the following exception:\n",
      "\u001B[1;31mKeyError\u001B[0m                                  Traceback (most recent call last)",
      "Cell \u001B[1;32mIn[43], line 1\u001B[0m\n\u001B[1;32m----> 1\u001B[0m data[\u001B[38;5;124m\"\u001B[39m\u001B[38;5;124mpickup_time_of_day\u001B[39m\u001B[38;5;124m\"\u001B[39m]\u001B[38;5;241m=\u001B[39m\u001B[43mdata\u001B[49m\u001B[43m[\u001B[49m\u001B[38;5;124;43m\"\u001B[39;49m\u001B[38;5;124;43mpickup_hour\u001B[39;49m\u001B[38;5;124;43m\"\u001B[39;49m\u001B[43m]\u001B[49m\u001B[38;5;241m.\u001B[39mapply(time_of_day)\n\u001B[0;32m      2\u001B[0m data[\u001B[38;5;124m\"\u001B[39m\u001B[38;5;124mdropoff_time_of_day\u001B[39m\u001B[38;5;124m\"\u001B[39m]\u001B[38;5;241m=\u001B[39mdata[\u001B[38;5;124m\"\u001B[39m\u001B[38;5;124mdropoff_hour\u001B[39m\u001B[38;5;124m\"\u001B[39m]\u001B[38;5;241m.\u001B[39mapply(time_of_day)\n",
      "File \u001B[1;32m~\\anaconda3\\envs\\pythonProject\\lib\\site-packages\\pandas\\core\\frame.py:3805\u001B[0m, in \u001B[0;36mDataFrame.__getitem__\u001B[1;34m(self, key)\u001B[0m\n\u001B[0;32m   3803\u001B[0m \u001B[38;5;28;01mif\u001B[39;00m \u001B[38;5;28mself\u001B[39m\u001B[38;5;241m.\u001B[39mcolumns\u001B[38;5;241m.\u001B[39mnlevels \u001B[38;5;241m>\u001B[39m \u001B[38;5;241m1\u001B[39m:\n\u001B[0;32m   3804\u001B[0m     \u001B[38;5;28;01mreturn\u001B[39;00m \u001B[38;5;28mself\u001B[39m\u001B[38;5;241m.\u001B[39m_getitem_multilevel(key)\n\u001B[1;32m-> 3805\u001B[0m indexer \u001B[38;5;241m=\u001B[39m \u001B[38;5;28;43mself\u001B[39;49m\u001B[38;5;241;43m.\u001B[39;49m\u001B[43mcolumns\u001B[49m\u001B[38;5;241;43m.\u001B[39;49m\u001B[43mget_loc\u001B[49m\u001B[43m(\u001B[49m\u001B[43mkey\u001B[49m\u001B[43m)\u001B[49m\n\u001B[0;32m   3806\u001B[0m \u001B[38;5;28;01mif\u001B[39;00m is_integer(indexer):\n\u001B[0;32m   3807\u001B[0m     indexer \u001B[38;5;241m=\u001B[39m [indexer]\n",
      "File \u001B[1;32m~\\anaconda3\\envs\\pythonProject\\lib\\site-packages\\pandas\\core\\indexes\\base.py:3805\u001B[0m, in \u001B[0;36mIndex.get_loc\u001B[1;34m(self, key, method, tolerance)\u001B[0m\n\u001B[0;32m   3803\u001B[0m     \u001B[38;5;28;01mreturn\u001B[39;00m \u001B[38;5;28mself\u001B[39m\u001B[38;5;241m.\u001B[39m_engine\u001B[38;5;241m.\u001B[39mget_loc(casted_key)\n\u001B[0;32m   3804\u001B[0m \u001B[38;5;28;01mexcept\u001B[39;00m \u001B[38;5;167;01mKeyError\u001B[39;00m \u001B[38;5;28;01mas\u001B[39;00m err:\n\u001B[1;32m-> 3805\u001B[0m     \u001B[38;5;28;01mraise\u001B[39;00m \u001B[38;5;167;01mKeyError\u001B[39;00m(key) \u001B[38;5;28;01mfrom\u001B[39;00m \u001B[38;5;21;01merr\u001B[39;00m\n\u001B[0;32m   3806\u001B[0m \u001B[38;5;28;01mexcept\u001B[39;00m \u001B[38;5;167;01mTypeError\u001B[39;00m:\n\u001B[0;32m   3807\u001B[0m     \u001B[38;5;66;03m# If we have a listlike key, _check_indexing_error will raise\u001B[39;00m\n\u001B[0;32m   3808\u001B[0m     \u001B[38;5;66;03m#  InvalidIndexError. Otherwise we fall through and re-raise\u001B[39;00m\n\u001B[0;32m   3809\u001B[0m     \u001B[38;5;66;03m#  the TypeError.\u001B[39;00m\n\u001B[0;32m   3810\u001B[0m     \u001B[38;5;28mself\u001B[39m\u001B[38;5;241m.\u001B[39m_check_indexing_error(key)\n",
      "\u001B[1;31mKeyError\u001B[0m: 'pickup_hour'"
     ]
    }
   ],
   "source": [
    "data[\"pickup_time_of_day\"]=data[\"pickup_hour\"].apply(time_of_day)\n",
    "data[\"dropoff_time_of_day\"]=data[\"dropoff_hour\"].apply(time_of_day)\n"
   ],
   "metadata": {
    "collapsed": false
   }
  },
  {
   "cell_type": "code",
   "execution_count": 65,
   "outputs": [
    {
     "data": {
      "text/plain": "1    0.738204\n2    0.138236\n5    0.043712\n3    0.038346\n6    0.024144\n4    0.017358\nName: passengers, dtype: float64"
     },
     "execution_count": 65,
     "metadata": {},
     "output_type": "execute_result"
    }
   ],
   "source": [
    "data=data[data['passengers']!=0]\n",
    "data=data[data['passengers']<=6]\n",
    "data['passengers'].value_counts(normalize=True)"
   ],
   "metadata": {
    "collapsed": false
   }
  },
  {
   "cell_type": "code",
   "execution_count": 66,
   "outputs": [
    {
     "data": {
      "text/plain": "0.80     126\n1.00     114\n0.90     113\n0.70     106\n1.10     104\n        ... \n10.99      1\n20.14      1\n8.81       1\n15.83      1\n18.74      1\nName: distance, Length: 1077, dtype: int64"
     },
     "execution_count": 66,
     "metadata": {},
     "output_type": "execute_result"
    }
   ],
   "source": [
    "data['distance'].value_counts()"
   ],
   "metadata": {
    "collapsed": false
   }
  },
  {
   "cell_type": "code",
   "execution_count": 78,
   "outputs": [
    {
     "data": {
      "text/plain": "<Figure size 2000x500 with 2 Axes>",
      "image/png": "[encoded data removed]"
     },
     "metadata": {},
     "output_type": "display_data"
    }
   ],
   "source": [
    "figure,(ax1,ax2)=plt.subplots(ncols=2,figsize=(20,5))\n",
    "ax1.set_title('Pickup Days')\n",
    "ax=sb.countplot(x=\"pickup_zone\",data=data,ax=ax1)\n",
    "ax2.set_title('Dropoff Days')\n",
    "ax=sb.countplot(x=\"dropoff_zone\",data=data,ax=ax2)"
   ],
   "metadata": {
    "collapsed": false
   }
  },
  {
   "cell_type": "code",
   "execution_count": 85,
   "outputs": [
    {
     "data": {
      "text/plain": "<AxesSubplot: xlabel='total', ylabel='payment'>"
     },
     "execution_count": 85,
     "metadata": {},
     "output_type": "execute_result"
    },
    {
     "data": {
      "text/plain": "<Figure size 640x480 with 1 Axes>",
      "image/png": "[encoded data removed]"
     },
     "metadata": {},
     "output_type": "display_data"
    }
   ],
   "source": [
    "sb.lineplot(x=\"total\",y=\"payment\",data=data)"
   ],
   "metadata": {
    "collapsed": false
   }
  },
  {
   "cell_type": "code",
   "execution_count": 86,
   "outputs": [
    {
     "data": {
      "text/plain": "Midtown Center                  227\nUpper East Side South           207\nClinton East                    205\nPenn Station/Madison Sq West    203\nMidtown East                    194\n                               ... \nPelham Parkway                    1\nHunts Point                       1\nBattery Park                      1\nPelham Bay                        1\nHillcrest/Pomonok                 1\nName: pickup_zone, Length: 194, dtype: int64"
     },
     "execution_count": 86,
     "metadata": {},
     "output_type": "execute_result"
    }
   ],
   "source": [
    "data['pickup_zone'].value_counts()"
   ],
   "metadata": {
    "collapsed": false
   }
  },
  {
   "cell_type": "code",
   "execution_count": 88,
   "outputs": [
    {
     "data": {
      "text/plain": "Manhattan    5183\nQueens        648\nBrooklyn      382\nBronx          98\nName: pickup_borough, dtype: int64"
     },
     "execution_count": 88,
     "metadata": {},
     "output_type": "execute_result"
    }
   ],
   "source": [
    "data['pickup_borough'].value_counts()\n"
   ],
   "metadata": {
    "collapsed": false
   }
  },
  {
   "cell_type": "code",
   "execution_count": 89,
   "outputs": [
    {
     "data": {
      "text/plain": "credit card    4500\ncash           1799\nName: payment, dtype: int64"
     },
     "execution_count": 89,
     "metadata": {},
     "output_type": "execute_result"
    }
   ],
   "source": [
    "data['payment'].value_counts()"
   ],
   "metadata": {
    "collapsed": false
   }
  },
  {
   "cell_type": "code",
   "execution_count": 90,
   "outputs": [
    {
     "data": {
      "text/plain": "9.30     143\n11.30    129\n10.30    118\n8.80     118\n9.80     118\n        ... \n69.00      1\n34.19      1\n27.04      1\n85.56      1\n26.82      1\nName: total, Length: 892, dtype: int64"
     },
     "execution_count": 90,
     "metadata": {},
     "output_type": "execute_result"
    }
   ],
   "source": [
    "data['total'].value_counts()"
   ],
   "metadata": {
    "collapsed": false
   }
  },
  {
   "cell_type": "code",
   "execution_count": 91,
   "outputs": [
    {
     "data": {
      "text/plain": "1    4678\n2     876\n5     277\n3     243\n6     153\n4     110\nName: passengers, dtype: int64"
     },
     "execution_count": 91,
     "metadata": {},
     "output_type": "execute_result"
    }
   ],
   "source": [
    "data['passengers'].value_counts()"
   ],
   "metadata": {
    "collapsed": false
   }
  },
  {
   "cell_type": "code",
   "execution_count": 95,
   "outputs": [
    {
     "data": {
      "text/plain": "0.00     5996\n5.76      315\n2.64        7\n11.52       4\n12.50       2\n5.54        2\n6.12        2\n8.40        1\n17.28       1\n16.26       1\n9.50        1\n5.75        1\n24.02       1\n8.50        1\n18.90       1\n4.75        1\nName: tolls, dtype: int64"
     },
     "execution_count": 95,
     "metadata": {},
     "output_type": "execute_result"
    }
   ],
   "source": [
    "data['tolls'].value_counts()"
   ],
   "metadata": {
    "collapsed": false
   }
  }
 ],
 "metadata": {
  "kernelspec": {
   "display_name": "Python 3",
   "language": "python",
   "name": "python3"
  },
  "language_info": {
   "codemirror_mode": {
    "name": "ipython",
    "version": 2
   },
   "file_extension": ".py",
   "mimetype": "text/x-python",
   "name": "python",
   "nbconvert_exporter": "python",
   "pygments_lexer": "ipython2",
   "version": "2.7.6"
  }
 },
 "nbformat": 4,
 "nbformat_minor": 0
}
